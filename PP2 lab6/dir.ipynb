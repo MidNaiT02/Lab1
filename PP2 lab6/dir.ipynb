{
 "cells": [
  {
   "cell_type": "code",
   "execution_count": 4,
   "id": "519e84ce-596d-4337-ad4a-cac61a0794bb",
   "metadata": {},
   "outputs": [
    {
     "name": "stdout",
     "output_type": "stream",
     "text": [
      "['.ipynb_checkpoints']\n",
      "['bult in.ipynb', 'dir.ipynb']\n",
      "['.ipynb_checkpoints', 'bult in.ipynb', 'dir.ipynb']\n",
      "{'Exists': False, 'Readable': False, 'Writable': False, 'Executable': False}\n",
      "Path does not exist\n",
      "File not found\n",
      "Source file not found\n",
      "File does not exist or cannot be deleted\n"
     ]
    }
   ],
   "source": [
    "import os\n",
    "import shutil\n",
    "\n",
    "def list_directories(path):\n",
    "    return [d for d in os.listdir(path) if os.path.isdir(os.path.join(path, d))]\n",
    "\n",
    "def list_files(path):\n",
    "    return [f for f in os.listdir(path) if os.path.isfile(os.path.join(path, f))]\n",
    "\n",
    "def list_all(path):\n",
    "    return os.listdir(path)\n",
    "\n",
    "def check_access(path):\n",
    "    return {\n",
    "        \"Exists\": os.path.exists(path),\n",
    "        \"Readable\": os.access(path, os.R_OK),\n",
    "        \"Writable\": os.access(path, os.W_OK),\n",
    "        \"Executable\": os.access(path, os.X_OK)\n",
    "    }\n",
    "\n",
    "def check_path_info(path):\n",
    "    if os.path.exists(path):\n",
    "        return {\n",
    "            \"Filename\": os.path.basename(path),\n",
    "            \"Directory\": os.path.dirname(path)\n",
    "        }\n",
    "    else:\n",
    "        return \"Path does not exist\"\n",
    "\n",
    "def count_lines(file_path):\n",
    "    try:\n",
    "        with open(file_path, 'r') as file:\n",
    "            return sum(1 for line in file)\n",
    "    except FileNotFoundError:\n",
    "        return \"File not found\"\n",
    "\n",
    "def write_list_to_file(file_path, data_list):\n",
    "    with open(file_path, 'w') as file:\n",
    "        file.write('\\n'.join(data_list))\n",
    "\n",
    "def generate_text_files():\n",
    "    for letter in range(65, 91):  # ASCII values for A-Z\n",
    "        with open(f\"{chr(letter)}.txt\", \"w\") as file:\n",
    "            file.write(f\"This is {chr(letter)}.txt\")\n",
    "\n",
    "def copy_file(source, destination):\n",
    "    try:\n",
    "        shutil.copy(source, destination)\n",
    "        return \"File copied successfully\"\n",
    "    except FileNotFoundError:\n",
    "        return \"Source file not found\"\n",
    "\n",
    "def delete_file(file_path):\n",
    "    if os.path.exists(file_path) and os.access(file_path, os.W_OK):\n",
    "        os.remove(file_path)\n",
    "        return \"File deleted successfully\"\n",
    "    else:\n",
    "        return \"File does not exist or cannot be deleted\"\n",
    "\n",
    "# Example usage:\n",
    "print(list_directories(\".\"))\n",
    "print(list_files(\".\"))\n",
    "print(list_all(\".\"))\n",
    "print(check_access(\"test.txt\"))\n",
    "print(check_path_info(\"test.txt\"))\n",
    "print(count_lines(\"test.txt\"))\n",
    "write_list_to_file(\"list.txt\", [\"Line 1\", \"Line 2\", \"Line 3\"])\n",
    "generate_text_files()\n",
    "print(copy_file(\"source.txt\", \"destination.txt\"))\n",
    "print(delete_file(\"test.txt\"))\n"
   ]
  },
  {
   "cell_type": "code",
   "execution_count": null,
   "id": "9070662e-8b0e-4dcb-98a1-d030ec953098",
   "metadata": {},
   "outputs": [],
   "source": []
  }
 ],
 "metadata": {
  "kernelspec": {
   "display_name": "Python [conda env:base] *",
   "language": "python",
   "name": "conda-base-py"
  },
  "language_info": {
   "codemirror_mode": {
    "name": "ipython",
    "version": 3
   },
   "file_extension": ".py",
   "mimetype": "text/x-python",
   "name": "python",
   "nbconvert_exporter": "python",
   "pygments_lexer": "ipython3",
   "version": "3.12.7"
  }
 },
 "nbformat": 4,
 "nbformat_minor": 5
}
