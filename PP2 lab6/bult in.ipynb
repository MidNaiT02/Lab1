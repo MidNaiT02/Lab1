{
 "cells": [
  {
   "cell_type": "code",
   "execution_count": 2,
   "id": "935678d3-00c4-4cbc-95ef-e14d88264b62",
   "metadata": {},
   "outputs": [
    {
     "name": "stdout",
     "output_type": "stream",
     "text": [
      "120\n"
     ]
    }
   ],
   "source": [
    "from functools import reduce\n",
    "\n",
    "def multiply_list(numbers):\n",
    "    return reduce(lambda x, y: x * y, numbers)\n",
    "\n",
    "# Example usage\n",
    "nums = [2, 3, 4, 5]\n",
    "print(multiply_list(nums))  # Output: 120\n"
   ]
  },
  {
   "cell_type": "code",
   "execution_count": 4,
   "id": "2e27817c-9d01-46a8-addf-0d80e9ae3946",
   "metadata": {},
   "outputs": [
    {
     "name": "stdout",
     "output_type": "stream",
     "text": [
      "{'Uppercase': 2, 'Lowercase': 8}\n"
     ]
    }
   ],
   "source": [
    "def count_case(s):\n",
    "    upper = sum(1 for c in s if c.isupper())\n",
    "    lower = sum(1 for c in s if c.islower())\n",
    "    return {\"Uppercase\": upper, \"Lowercase\": lower}\n",
    "\n",
    "# Example usage\n",
    "text = \"Hello World!\"\n",
    "print(count_case(text))  # Output: {'Uppercase': 2, 'Lowercase': 8}\n"
   ]
  },
  {
   "cell_type": "code",
   "execution_count": 6,
   "id": "7e93efaa-94de-4eda-84b6-84750168d573",
   "metadata": {},
   "outputs": [
    {
     "name": "stdout",
     "output_type": "stream",
     "text": [
      "True\n",
      "False\n"
     ]
    }
   ],
   "source": [
    "def is_palindrome(s):\n",
    "    return s == s[::-1]\n",
    "\n",
    "# Example usage\n",
    "print(is_palindrome(\"madam\"))  # Output: True\n",
    "print(is_palindrome(\"hello\"))  # Output: False\n"
   ]
  },
  {
   "cell_type": "code",
   "execution_count": 8,
   "id": "1bbdcac5-78a7-4ac7-a9a1-db58e7d70712",
   "metadata": {},
   "outputs": [
    {
     "name": "stdout",
     "output_type": "stream",
     "text": [
      "Square root of 25100 after 2123 milliseconds is 158.42979517754858\n"
     ]
    }
   ],
   "source": [
    "import time\n",
    "import math\n",
    "\n",
    "def delayed_sqrt(num, delay_ms):\n",
    "    time.sleep(delay_ms / 1000)  # Convert milliseconds to seconds\n",
    "    return math.sqrt(num)\n",
    "\n",
    "# Example usage\n",
    "num = 25100\n",
    "delay = 2123\n",
    "print(f\"Square root of {num} after {delay} milliseconds is {delayed_sqrt(num, delay)}\")\n"
   ]
  },
  {
   "cell_type": "code",
   "execution_count": 10,
   "id": "cc70d229-e115-428e-9820-f1d654a053be",
   "metadata": {},
   "outputs": [
    {
     "name": "stdout",
     "output_type": "stream",
     "text": [
      "True\n",
      "False\n"
     ]
    }
   ],
   "source": [
    "def all_true(t):\n",
    "    return all(t)\n",
    "\n",
    "# Example usage\n",
    "t1 = (True, True, True)\n",
    "t2 = (True, False, True)\n",
    "\n",
    "print(all_true(t1))  # Output: True\n",
    "print(all_true(t2))  # Output: False\n"
   ]
  },
  {
   "cell_type": "code",
   "execution_count": null,
   "id": "dd140a3f-5386-4ab9-aaa2-9f3374ff0d3b",
   "metadata": {},
   "outputs": [],
   "source": []
  }
 ],
 "metadata": {
  "kernelspec": {
   "display_name": "Python [conda env:base] *",
   "language": "python",
   "name": "conda-base-py"
  },
  "language_info": {
   "codemirror_mode": {
    "name": "ipython",
    "version": 3
   },
   "file_extension": ".py",
   "mimetype": "text/x-python",
   "name": "python",
   "nbconvert_exporter": "python",
   "pygments_lexer": "ipython3",
   "version": "3.12.7"
  }
 },
 "nbformat": 4,
 "nbformat_minor": 5
}
