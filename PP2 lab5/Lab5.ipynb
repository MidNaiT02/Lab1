{
 "cells": [
  {
   "cell_type": "code",
   "execution_count": 6,
   "id": "50a82b2f-76bc-484a-8c31-cc862a1cf2c8",
   "metadata": {},
   "outputs": [
    {
     "name": "stdout",
     "output_type": "stream",
     "text": [
      "True\n",
      "True\n",
      "['hello_world', 'test_case']\n",
      "['Hello', 'World', 'Test', 'Example']\n",
      "True\n",
      "Hello::world::This:is:a:test\n",
      "thisIsATest\n",
      "['', 'Split', 'At', 'Uppercase']\n",
      "Insert Spaces Before Capital Letters\n",
      "camel_case_to_snake_case\n"
     ]
    }
   ],
   "source": [
    "import re\n",
    "\n",
    "# 1. Check if the string has 'a's followed by 'b's\n",
    "def match_a_followed_by_b(s):\n",
    "    return bool(re.fullmatch(r'a*b*', s))\n",
    "\n",
    "# 2. Check if the string is 'a' followed by 2 or 3 'b's\n",
    "def match_a_followed_by_2_to_3_b(s):\n",
    "    return bool(re.fullmatch(r'ab{2,3}', s))\n",
    "\n",
    "# 3. Find words with lowercase letters separated by an underscore\n",
    "def find_lowercase_sequences_with_underscore(s):\n",
    "    return re.findall(r'\\b[a-z]+_[a-z]+\\b', s)\n",
    "\n",
    "# 4. Find words that start with an uppercase letter followed by lowercase\n",
    "def find_uppercase_followed_by_lowercase(s):\n",
    "    return re.findall(r'[A-Z][a-z]+', s)\n",
    "\n",
    "# 5. Check if a string starts with 'a' and ends with 'b'\n",
    "def match_a_followed_by_anything_ending_in_b(s):\n",
    "    return bool(re.fullmatch(r'a.*b', s))\n",
    "\n",
    "# 6. Replace spaces, commas, and dots with colons\n",
    "def replace_space_comma_dot_with_colon(s):\n",
    "    return re.sub(r'[ ,.]', ':', s)\n",
    "\n",
    "# 7. Convert snake_case to camelCase\n",
    "def snake_to_camel(s):\n",
    "    words = s.split('_')\n",
    "    return words[0] + ''.join(w.title() for w in words[1:])\n",
    "\n",
    "# 8. Split string at uppercase letters\n",
    "def split_at_uppercase(s):\n",
    "    return re.split(r'(?=[A-Z])', s)\n",
    "\n",
    "# 9. Insert spaces before uppercase letters\n",
    "def insert_spaces_before_capital_letters(s):\n",
    "    return re.sub(r'(?<!^)(?=[A-Z])', ' ', s)\n",
    "\n",
    "# 10. Convert CamelCase to snake_case\n",
    "def camel_to_snake(s):\n",
    "    return re.sub(r'(?<!^)(?=[A-Z])', '_', s).lower()\n",
    "\n",
    "# Test cases\n",
    "print(match_a_followed_by_b(\"abbb\"))  # True\n",
    "print(match_a_followed_by_2_to_3_b(\"abb\"))  # True\n",
    "print(find_lowercase_sequences_with_underscore(\"hello_world test_case\"))  # ['hello_world', 'test_case']\n",
    "print(find_uppercase_followed_by_lowercase(\"HelloWorld TestExample\"))  # ['Hello', 'World', 'Test', 'Example']\n",
    "print(match_a_followed_by_anything_ending_in_b(\"acb\"))  # True\n",
    "print(replace_space_comma_dot_with_colon(\"Hello, world. This is a test\"))  # 'Hello:world:This:is:a:test'\n",
    "print(snake_to_camel(\"this_is_a_test\"))  # 'thisIsATest'\n",
    "print(split_at_uppercase(\"SplitAtUppercase\"))  # ['Split', 'At', 'Uppercase']\n",
    "print(insert_spaces_before_capital_letters(\"InsertSpacesBeforeCapitalLetters\"))  # 'Insert Spaces Before Capital Letters'\n",
    "print(camel_to_snake(\"CamelCaseToSnakeCase\"))  # 'camel_case_to_snake_case'\n"
   ]
  },
  {
   "cell_type": "code",
   "execution_count": null,
   "id": "20db8695-aba0-4405-95cb-cc52daeca87c",
   "metadata": {},
   "outputs": [],
   "source": []
  }
 ],
 "metadata": {
  "kernelspec": {
   "display_name": "Python [conda env:base] *",
   "language": "python",
   "name": "conda-base-py"
  },
  "language_info": {
   "codemirror_mode": {
    "name": "ipython",
    "version": 3
   },
   "file_extension": ".py",
   "mimetype": "text/x-python",
   "name": "python",
   "nbconvert_exporter": "python",
   "pygments_lexer": "ipython3",
   "version": "3.12.7"
  }
 },
 "nbformat": 4,
 "nbformat_minor": 5
}
