{
 "cells": [
  {
   "cell_type": "markdown",
   "id": "4a822e49-08a2-4c6f-95ad-e3180dd8b0c7",
   "metadata": {},
   "source": [
    "Ex:1"
   ]
  },
  {
   "cell_type": "code",
   "execution_count": 3,
   "id": "5abfc4ae-1e12-4055-8129-a5dd2c96e106",
   "metadata": {},
   "outputs": [
    {
     "name": "stdout",
     "output_type": "stream",
     "text": [
      "Hello, World!\n"
     ]
    }
   ],
   "source": [
    "print(\"Hello, World!\")"
   ]
  },
  {
   "cell_type": "markdown",
   "id": "29259cb9-0f23-4957-bd43-3df93267a5bf",
   "metadata": {},
   "source": [
    "Chech the version of editer"
   ]
  },
  {
   "cell_type": "markdown",
   "id": "05343598-7e6e-4ba9-bb0f-23cdc540fe1d",
   "metadata": {},
   "source": [
    "#What is the correct file extension for Python files?\n",
    "\n",
    "#.py"
   ]
  },
  {
   "cell_type": "markdown",
   "id": "d7739485-232a-4583-871a-b106a6d62c26",
   "metadata": {},
   "source": [
    "What is a correct command line syntax for checking if python is installed on your computer? (And also to check the Python version):\n",
    "python --version\n"
   ]
  },
  {
   "cell_type": "markdown",
   "id": "e5c561b3-6ecf-49c2-be5e-e0688a7fbe09",
   "metadata": {},
   "source": [
    "What is a correct syntax to exit the Python command line interface?"
   ]
  },
  {
   "cell_type": "code",
   "execution_count": 37,
   "id": "28175c64-00c4-42ca-aa85-0110372cc829",
   "metadata": {},
   "outputs": [],
   "source": [
    "exit()"
   ]
  },
  {
   "cell_type": "code",
   "execution_count": 26,
   "id": "2b4aab6f-3a04-4718-b78d-24389d758c91",
   "metadata": {},
   "outputs": [
    {
     "name": "stdout",
     "output_type": "stream",
     "text": [
      "3.12.7 | packaged by Anaconda, Inc. | (main, Oct  4 2024, 13:17:27) [MSC v.1929 64 bit (AMD64)]\n"
     ]
    }
   ],
   "source": [
    "import sys\n",
    "\n",
    "print(sys.version)"
   ]
  },
  {
   "cell_type": "markdown",
   "id": "18f88142-b7e4-460f-acce-f91c7433beb7",
   "metadata": {},
   "source": [
    "Syntax"
   ]
  },
  {
   "cell_type": "code",
   "execution_count": 2,
   "id": "e9951b2a-8e16-4c37-89b2-409087f6d294",
   "metadata": {},
   "outputs": [
    {
     "name": "stdout",
     "output_type": "stream",
     "text": [
      "Five is greater than two!\n"
     ]
    }
   ],
   "source": [
    "if 5 > 2:\n",
    "  print(\"Five is greater than two!\")"
   ]
  },
  {
   "cell_type": "markdown",
   "id": "35a3b5bd-3464-4e9a-80b6-05e38a88dbbd",
   "metadata": {},
   "source": [
    "Syntax error"
   ]
  },
  {
   "cell_type": "code",
   "execution_count": 4,
   "id": "1c34bc25-5e41-447f-b6f5-972a3d882b12",
   "metadata": {},
   "outputs": [
    {
     "ename": "IndentationError",
     "evalue": "expected an indented block after 'if' statement on line 1 (3793329317.py, line 2)",
     "output_type": "error",
     "traceback": [
      "\u001b[1;36m  Cell \u001b[1;32mIn[4], line 2\u001b[1;36m\u001b[0m\n\u001b[1;33m    print(\"Five is greater than two!\")\u001b[0m\n\u001b[1;37m    ^\u001b[0m\n\u001b[1;31mIndentationError\u001b[0m\u001b[1;31m:\u001b[0m expected an indented block after 'if' statement on line 1\n"
     ]
    }
   ],
   "source": [
    "if 5 > 2:\n",
    "print(\"Five is greater than two!\")"
   ]
  },
  {
   "cell_type": "markdown",
   "id": "4ee9bf97-d8c0-4bb9-91f5-85201e178d6a",
   "metadata": {},
   "source": [
    "Several spaces"
   ]
  },
  {
   "cell_type": "code",
   "execution_count": 13,
   "id": "f206647d-e0bb-4866-9b9f-632e0d6a1a3b",
   "metadata": {},
   "outputs": [
    {
     "name": "stdout",
     "output_type": "stream",
     "text": [
      "Five is greater than two!\n",
      "Five is greater than two!\n"
     ]
    }
   ],
   "source": [
    "if 5 > 2:\n",
    " print(\"Five is greater than two!\") \n",
    "if 5 > 2:\n",
    "        print(\"Five is greater than two!\") "
   ]
  },
  {
   "cell_type": "markdown",
   "id": "e720f2fa-f817-4510-a343-44b2a7f00679",
   "metadata": {},
   "source": [
    "You have to use the same number of spaces in the same block of code, otherwise Python will give you an error:"
   ]
  },
  {
   "cell_type": "code",
   "execution_count": 16,
   "id": "82f52f60-7a61-45c5-892d-a34fdc11cf5d",
   "metadata": {},
   "outputs": [
    {
     "ename": "IndentationError",
     "evalue": "unexpected indent (3430240237.py, line 3)",
     "output_type": "error",
     "traceback": [
      "\u001b[1;36m  Cell \u001b[1;32mIn[16], line 3\u001b[1;36m\u001b[0m\n\u001b[1;33m    print(\"Five is greater than two!\")\u001b[0m\n\u001b[1;37m    ^\u001b[0m\n\u001b[1;31mIndentationError\u001b[0m\u001b[1;31m:\u001b[0m unexpected indent\n"
     ]
    }
   ],
   "source": [
    "if 5 > 2:\n",
    " print(\"Five is greater than two!\")\n",
    "        print(\"Five is greater than two!\")"
   ]
  },
  {
   "cell_type": "markdown",
   "id": "2af48b91-5471-4485-b905-559026e17556",
   "metadata": {},
   "source": [
    "Comment"
   ]
  },
  {
   "cell_type": "code",
   "execution_count": 19,
   "id": "9b80d67f-ee39-4888-8651-bbe4f1b4e7bf",
   "metadata": {},
   "outputs": [
    {
     "name": "stdout",
     "output_type": "stream",
     "text": [
      "Hello, World!\n"
     ]
    }
   ],
   "source": [
    "#This is a comment\n",
    "print(\"Hello, World!\")"
   ]
  },
  {
   "cell_type": "code",
   "execution_count": 21,
   "id": "3dc234bf-8910-45d6-91b1-797e89b06d18",
   "metadata": {},
   "outputs": [
    {
     "name": "stdout",
     "output_type": "stream",
     "text": [
      "Hello, World!\n"
     ]
    }
   ],
   "source": [
    "print(\"Hello, World!\") #This is a comment\n"
   ]
  },
  {
   "cell_type": "code",
   "execution_count": 23,
   "id": "ef88d7d8-1cc3-4acc-9f08-2089eb088bdc",
   "metadata": {},
   "outputs": [
    {
     "name": "stdout",
     "output_type": "stream",
     "text": [
      "Cheers, Mate!\n"
     ]
    }
   ],
   "source": [
    "#print(\"Hello, World!\")\n",
    "print(\"Cheers, Mate!\")"
   ]
  },
  {
   "cell_type": "code",
   "execution_count": 25,
   "id": "5cce477b-3b6c-4f71-b37a-7c5c98bf86e6",
   "metadata": {},
   "outputs": [
    {
     "name": "stdout",
     "output_type": "stream",
     "text": [
      "Hello, World!\n"
     ]
    }
   ],
   "source": [
    "#This is a comment\n",
    "#written in\n",
    "#more than just one line\n",
    "print(\"Hello, World!\")"
   ]
  },
  {
   "cell_type": "code",
   "execution_count": 27,
   "id": "61b51ebe-aa9d-424d-8786-f8e9c46a96d4",
   "metadata": {},
   "outputs": [
    {
     "name": "stdout",
     "output_type": "stream",
     "text": [
      "Hello, World!\n"
     ]
    }
   ],
   "source": [
    "\"\"\"\n",
    "This is a comment\n",
    "written in\n",
    "more than just one line\n",
    "\"\"\"\n",
    "print(\"Hello, World!\")"
   ]
  },
  {
   "cell_type": "markdown",
   "id": "a8f7b6e7-c06d-46f0-b84f-51e9353913ab",
   "metadata": {},
   "source": [
    "Which character is used to define a Python comment:\n",
    "\n",
    "\"#\""
   ]
  },
  {
   "cell_type": "markdown",
   "id": "280a289a-a5f0-4234-a938-014b4cc31ba9",
   "metadata": {},
   "source": [
    "Comments in Python are written with a special character, which one?\n"
   ]
  },
  {
   "cell_type": "code",
   "execution_count": 33,
   "id": "2059a36b-d44e-4160-92a7-dab19012d030",
   "metadata": {},
   "outputs": [],
   "source": [
    "#This is a comment"
   ]
  },
  {
   "cell_type": "markdown",
   "id": "f221c4a8-2a4d-4719-ad9b-2fc10d73cc73",
   "metadata": {},
   "source": [
    "Use a multiline string to make the a multiline comment:"
   ]
  },
  {
   "cell_type": "code",
   "execution_count": 38,
   "id": "3a24995a-6e83-4e08-96e5-47663cebc4f2",
   "metadata": {},
   "outputs": [
    {
     "data": {
      "text/plain": [
       "'This is a comment\\nwritten in \\nmore than just one line'"
      ]
     },
     "execution_count": 38,
     "metadata": {},
     "output_type": "execute_result"
    }
   ],
   "source": [
    "'''This is a comment\n",
    "written in \n",
    "more than just one line'''"
   ]
  },
  {
   "cell_type": "markdown",
   "id": "76a01ff9-5569-446d-a1cb-bbdab2b6dd46",
   "metadata": {},
   "source": [
    "Variable"
   ]
  },
  {
   "cell_type": "markdown",
   "id": "3e4991f7-3b5a-44a9-928b-0e9a33a44579",
   "metadata": {},
   "source": [
    "A variable is created the moment you first assign a value to it.\n"
   ]
  },
  {
   "cell_type": "code",
   "execution_count": 42,
   "id": "f7fb9961-a02e-4bf4-b357-00fc5c699958",
   "metadata": {},
   "outputs": [
    {
     "name": "stdout",
     "output_type": "stream",
     "text": [
      "5\n",
      "John\n"
     ]
    }
   ],
   "source": [
    "x = 5\n",
    "y = \"John\"\n",
    "print(x)\n",
    "print(y)"
   ]
  },
  {
   "cell_type": "markdown",
   "id": "7e242074-b185-4c68-be7f-402b0b14fea9",
   "metadata": {},
   "source": [
    "Variables do not need to be declared with any particular type, and can even change type after they have been set.\n"
   ]
  },
  {
   "cell_type": "code",
   "execution_count": 45,
   "id": "b037d1c0-a2ac-4cde-bb70-961021f6d1a3",
   "metadata": {},
   "outputs": [
    {
     "name": "stdout",
     "output_type": "stream",
     "text": [
      "Sally\n"
     ]
    }
   ],
   "source": [
    "x = 4       # x is of type int\n",
    "x = \"Sally\" # x is now of type str\n",
    "print(x)"
   ]
  },
  {
   "cell_type": "markdown",
   "id": "8ac2ca8a-2116-4c77-99f2-c102082b29a2",
   "metadata": {},
   "source": [
    "If you want to specify the data type of a variable, this can be done with casting.\n",
    "\n"
   ]
  },
  {
   "cell_type": "code",
   "execution_count": 48,
   "id": "e3426b03-171c-48c0-91b4-cabf77dcce46",
   "metadata": {},
   "outputs": [],
   "source": [
    "x = str(3)    # x will be '3'\n",
    "y = int(3)    # y will be 3\n",
    "z = float(3)  # z will be 3.0"
   ]
  },
  {
   "cell_type": "markdown",
   "id": "df781b03-c8dc-40ec-8de9-8f0cae303a9b",
   "metadata": {},
   "source": [
    "You can get the data type of a variable with the type() function."
   ]
  },
  {
   "cell_type": "code",
   "execution_count": 53,
   "id": "e48df4f2-504c-4a29-9b5f-da6d528d5759",
   "metadata": {},
   "outputs": [
    {
     "name": "stdout",
     "output_type": "stream",
     "text": [
      "<class 'int'>\n",
      "<class 'str'>\n"
     ]
    }
   ],
   "source": [
    "x = 5\n",
    "y = \"John\"\n",
    "print(type(x))\n",
    "print(type(y))"
   ]
  },
  {
   "cell_type": "markdown",
   "id": "1b5f45ed-eb7d-4376-bd34-f4373ff92675",
   "metadata": {},
   "source": [
    "String variables can be declared either by using single or double quotes:"
   ]
  },
  {
   "cell_type": "code",
   "execution_count": 56,
   "id": "2e6ca171-0715-4714-a206-94158c118f43",
   "metadata": {},
   "outputs": [],
   "source": [
    "x = \"John\"\n",
    "# is the same as\n",
    "x = 'John'"
   ]
  },
  {
   "cell_type": "markdown",
   "id": "d830c9e3-9a40-446d-b656-cc87a5f85ad6",
   "metadata": {},
   "source": [
    "Variable names are case-sensitive.\n"
   ]
  },
  {
   "cell_type": "code",
   "execution_count": 59,
   "id": "7474d153-97fc-4584-99fe-463c01b922cc",
   "metadata": {},
   "outputs": [],
   "source": [
    "a = 4\n",
    "A = \"Sally\"\n",
    "#A will not overwrite a"
   ]
  },
  {
   "cell_type": "markdown",
   "id": "ac7ca5ef-3d18-4831-beb8-5d17fe234726",
   "metadata": {},
   "source": [
    "Test 1, What is a correct way to declare a Python variable?"
   ]
  },
  {
   "cell_type": "code",
   "execution_count": 6,
   "id": "284e8cb1-1a09-4ae3-a776-96774e3767de",
   "metadata": {},
   "outputs": [],
   "source": [
    "x=5"
   ]
  },
  {
   "cell_type": "code",
   "execution_count": 14,
   "id": "e8caac95-84b7-49b4-8659-63054219e282",
   "metadata": {},
   "outputs": [
    {
     "data": {
      "text/plain": [
       "'You can declare string variables with single or double quotes.'"
      ]
     },
     "execution_count": 14,
     "metadata": {},
     "output_type": "execute_result"
    }
   ],
   "source": [
    "\"You can declare string variables with single or double quotes.\"\n",
    "#True"
   ]
  },
  {
   "cell_type": "code",
   "execution_count": 20,
   "id": "83dffcd0-fd13-4c30-9003-daab7beb2c03",
   "metadata": {},
   "outputs": [],
   "source": [
    "x = \"John\"\n",
    "# is the same as\n",
    "x = 'John'"
   ]
  },
  {
   "cell_type": "markdown",
   "id": "260850c1-bed6-42d2-b456-61e00e567df1",
   "metadata": {},
   "source": [
    "True or False:\n",
    "Variable names are not case-sensitive. False"
   ]
  },
  {
   "cell_type": "code",
   "execution_count": 23,
   "id": "92b4e329-8e28-4276-923b-f67f224ec8d8",
   "metadata": {},
   "outputs": [],
   "source": [
    "a = 5\n",
    "# is the same as\n",
    "A = 5"
   ]
  },
  {
   "cell_type": "markdown",
   "id": "5dd3a54e-d74d-4cd9-9aaf-bed85c0c9cbf",
   "metadata": {},
   "source": [
    "Variable names"
   ]
  },
  {
   "cell_type": "code",
   "execution_count": 62,
   "id": "1e8d8d5f-8662-46fd-b4db-48b69cac0204",
   "metadata": {},
   "outputs": [],
   "source": [
    "#Legal variable names:\n",
    "myvar = \"John\"\n",
    "my_var = \"John\"\n",
    "_my_var = \"John\"\n",
    "myVar = \"John\"\n",
    "MYVAR = \"John\"\n",
    "myvar2 = \"John\""
   ]
  },
  {
   "cell_type": "code",
   "execution_count": 64,
   "id": "30799671-6558-4eaf-84b7-329fb17b95ef",
   "metadata": {},
   "outputs": [
    {
     "ename": "SyntaxError",
     "evalue": "invalid decimal literal (3407628864.py, line 3)",
     "output_type": "error",
     "traceback": [
      "\u001b[1;36m  Cell \u001b[1;32mIn[64], line 3\u001b[1;36m\u001b[0m\n\u001b[1;33m    2myvar = \"John\"\u001b[0m\n\u001b[1;37m    ^\u001b[0m\n\u001b[1;31mSyntaxError\u001b[0m\u001b[1;31m:\u001b[0m invalid decimal literal\n"
     ]
    }
   ],
   "source": [
    "#Illegal variable names:\n",
    "\n",
    "2myvar = \"John\"\n",
    "my-var = \"John\"\n",
    "my var = \"John\""
   ]
  },
  {
   "cell_type": "code",
   "execution_count": 66,
   "id": "12ffd9b8-649d-4bda-95fd-951e91c230c0",
   "metadata": {},
   "outputs": [],
   "source": [
    "#CamelCase\n",
    "myVariableName = \"John\""
   ]
  },
  {
   "cell_type": "code",
   "execution_count": 68,
   "id": "8370ca17-52e6-43d4-b970-caa8e51957a7",
   "metadata": {},
   "outputs": [],
   "source": [
    "#Pascal Case\n",
    "#Each word starts with a capital letter:\n",
    "\n",
    "MyVariableName = \"John\""
   ]
  },
  {
   "cell_type": "code",
   "execution_count": 70,
   "id": "a4f056b6-5758-42f7-973b-e5cbe8b67803",
   "metadata": {},
   "outputs": [],
   "source": [
    "'''Snake Case\n",
    "Each word is separated by an underscore character:'''\n",
    "my_variable_name = \"John\""
   ]
  },
  {
   "cell_type": "markdown",
   "id": "edaf7c22-c2dc-4917-836a-3ff1d443150b",
   "metadata": {},
   "source": [
    "Which is NOT a legal variable name?\n"
   ]
  },
  {
   "cell_type": "code",
   "execution_count": 74,
   "id": "82139737-52db-4d53-bd37-009cb8886c3c",
   "metadata": {},
   "outputs": [
    {
     "ename": "SyntaxError",
     "evalue": "cannot assign to expression here. Maybe you meant '==' instead of '='? (4097464713.py, line 1)",
     "output_type": "error",
     "traceback": [
      "\u001b[1;36m  Cell \u001b[1;32mIn[74], line 1\u001b[1;36m\u001b[0m\n\u001b[1;33m    my-var = 20\u001b[0m\n\u001b[1;37m    ^\u001b[0m\n\u001b[1;31mSyntaxError\u001b[0m\u001b[1;31m:\u001b[0m cannot assign to expression here. Maybe you meant '==' instead of '='?\n"
     ]
    }
   ],
   "source": [
    "my-var = 20"
   ]
  },
  {
   "cell_type": "markdown",
   "id": "25adcf3a-9cdc-466f-98e6-0d429e48ee40",
   "metadata": {},
   "source": [
    "Create a variable named carname and assign the value Volvo to it."
   ]
  },
  {
   "cell_type": "code",
   "execution_count": 77,
   "id": "e3354687-8a84-4b34-ae8f-d8854e8d62be",
   "metadata": {},
   "outputs": [],
   "source": [
    "carname=\"Volvo\""
   ]
  },
  {
   "cell_type": "markdown",
   "id": "61553dce-3385-432f-b216-af077de0b957",
   "metadata": {},
   "source": [
    "Create a variable named x and assign the value 50 to it.\n",
    "\n"
   ]
  },
  {
   "cell_type": "code",
   "execution_count": 80,
   "id": "883e3970-f287-4e55-8fa5-6457cd64a292",
   "metadata": {},
   "outputs": [],
   "source": [
    "x=50"
   ]
  },
  {
   "cell_type": "markdown",
   "id": "14c55aaf-b86b-4688-b801-b88d62a557a9",
   "metadata": {},
   "source": [
    "Multiple values"
   ]
  },
  {
   "cell_type": "code",
   "execution_count": 83,
   "id": "540c2146-f339-4590-9385-718131a386be",
   "metadata": {},
   "outputs": [
    {
     "name": "stdout",
     "output_type": "stream",
     "text": [
      "Orange\n",
      "Banana\n",
      "Cherry\n"
     ]
    }
   ],
   "source": [
    "#Python allows you to assign values to multiple variables in one line:\n",
    "\n",
    "x, y, z = \"Orange\", \"Banana\", \"Cherry\"\n",
    "print(x)\n",
    "print(y)\n",
    "print(z)"
   ]
  },
  {
   "cell_type": "code",
   "execution_count": 85,
   "id": "461eb35c-0ff1-4e72-9fbd-69556a1aeb2b",
   "metadata": {},
   "outputs": [
    {
     "name": "stdout",
     "output_type": "stream",
     "text": [
      "Orange\n",
      "Orange\n",
      "Orange\n"
     ]
    }
   ],
   "source": [
    "#And you can assign the same value to multiple variables in one line:\n",
    "\n",
    "\n",
    "x = y = z = \"Orange\"\n",
    "print(x)\n",
    "print(y)\n",
    "print(z)"
   ]
  },
  {
   "cell_type": "code",
   "execution_count": 87,
   "id": "3d194380-2aac-4ad3-a11c-446cab00fc7a",
   "metadata": {},
   "outputs": [
    {
     "name": "stdout",
     "output_type": "stream",
     "text": [
      "apple\n",
      "banana\n",
      "cherry\n"
     ]
    }
   ],
   "source": [
    "#Unpack a list:\n",
    "\n",
    "fruits = [\"apple\", \"banana\", \"cherry\"]\n",
    "x, y, z = fruits\n",
    "print(x)\n",
    "print(y)\n",
    "print(z)"
   ]
  },
  {
   "cell_type": "markdown",
   "id": "2c03ffa2-96af-4427-bdfb-fc2466127b07",
   "metadata": {},
   "source": [
    "What is a correct syntax to add the value 'Hello World', to 3 variables in one statement?"
   ]
  },
  {
   "cell_type": "code",
   "execution_count": 90,
   "id": "d5429bf3-25aa-47d1-923d-b0f149d21063",
   "metadata": {},
   "outputs": [],
   "source": [
    "x = y = z = 'Hello World'"
   ]
  },
  {
   "cell_type": "markdown",
   "id": "0a3c7972-36d5-4bdf-b5e4-4805ef2af0b1",
   "metadata": {},
   "source": [
    "Insert the correct syntax to assign values to multiple variables in one line:\n",
    "\n"
   ]
  },
  {
   "cell_type": "code",
   "execution_count": 93,
   "id": "6e602715-361e-43e8-a1fe-f6c37d5a7b62",
   "metadata": {},
   "outputs": [],
   "source": [
    "x,y,z = \"Orange\", \"Banana\", \"Cherry\""
   ]
  },
  {
   "cell_type": "markdown",
   "id": "aa759e0a-14eb-4b38-af6e-05d101ce711b",
   "metadata": {},
   "source": [
    "Consider the following code:\n",
    "fruits = ['apple', 'banana', 'cherry']\n",
    "a, b, c = fruits\n",
    "print(a)\n",
    "What will be the result of a"
   ]
  },
  {
   "cell_type": "markdown",
   "id": "c89fa880-c9c4-49ce-8e10-cd5cac113463",
   "metadata": {},
   "source": [
    "apple"
   ]
  },
  {
   "cell_type": "markdown",
   "id": "ed9f24ae-d876-46a4-889e-b4e877526a7f",
   "metadata": {},
   "source": [
    "Output variables"
   ]
  },
  {
   "cell_type": "code",
   "execution_count": 98,
   "id": "3e2b3e68-d258-4db7-982b-9fe6d64ce46a",
   "metadata": {},
   "outputs": [
    {
     "name": "stdout",
     "output_type": "stream",
     "text": [
      "Python is awesome\n"
     ]
    }
   ],
   "source": [
    "x = \"Python is awesome\"\n",
    "print(x)"
   ]
  },
  {
   "cell_type": "code",
   "execution_count": 100,
   "id": "ae66183e-25aa-4663-af84-7631a8c28207",
   "metadata": {},
   "outputs": [
    {
     "name": "stdout",
     "output_type": "stream",
     "text": [
      "Python is awesome\n"
     ]
    }
   ],
   "source": [
    "#In the print() function, you output multiple variables, separated by a comma:\n",
    "\n",
    "x = \"Python\"\n",
    "y = \"is\"\n",
    "z = \"awesome\"\n",
    "print(x, y, z)"
   ]
  },
  {
   "cell_type": "code",
   "execution_count": 102,
   "id": "155fb72d-9479-4d7f-8286-40409bb2f0d1",
   "metadata": {},
   "outputs": [
    {
     "name": "stdout",
     "output_type": "stream",
     "text": [
      "Python is awesome\n"
     ]
    }
   ],
   "source": [
    "#You can also use the + operator to output multiple variables:\n",
    "\n",
    "x = \"Python \"\n",
    "y = \"is \"\n",
    "z = \"awesome\"\n",
    "print(x + y + z)"
   ]
  },
  {
   "cell_type": "code",
   "execution_count": 104,
   "id": "1bea0a0f-9596-4ace-ab48-4004887ed3e6",
   "metadata": {},
   "outputs": [
    {
     "name": "stdout",
     "output_type": "stream",
     "text": [
      "15\n"
     ]
    }
   ],
   "source": [
    "#For numbers, the + character works as a mathematical operator:\n",
    "\n",
    "x = 5\n",
    "y = 10\n",
    "print(x + y)"
   ]
  },
  {
   "cell_type": "code",
   "execution_count": 106,
   "id": "e2805edb-cb71-43e8-a011-5754ffca00c5",
   "metadata": {},
   "outputs": [
    {
     "ename": "TypeError",
     "evalue": "unsupported operand type(s) for +: 'int' and 'str'",
     "output_type": "error",
     "traceback": [
      "\u001b[1;31m---------------------------------------------------------------------------\u001b[0m",
      "\u001b[1;31mTypeError\u001b[0m                                 Traceback (most recent call last)",
      "Cell \u001b[1;32mIn[106], line 5\u001b[0m\n\u001b[0;32m      3\u001b[0m x \u001b[38;5;241m=\u001b[39m \u001b[38;5;241m5\u001b[39m\n\u001b[0;32m      4\u001b[0m y \u001b[38;5;241m=\u001b[39m \u001b[38;5;124m\"\u001b[39m\u001b[38;5;124mJohn\u001b[39m\u001b[38;5;124m\"\u001b[39m\n\u001b[1;32m----> 5\u001b[0m \u001b[38;5;28mprint\u001b[39m(x \u001b[38;5;241m+\u001b[39m y)\n",
      "\u001b[1;31mTypeError\u001b[0m: unsupported operand type(s) for +: 'int' and 'str'"
     ]
    }
   ],
   "source": [
    "#In the print() function, when you try to combine a string and a number with the + operator, Python will give you an error:\n",
    "\n",
    "x = 5\n",
    "y = \"John\"\n",
    "print(x + y)"
   ]
  },
  {
   "cell_type": "code",
   "execution_count": 108,
   "id": "b0bb66bb-09cb-44aa-9b09-94e604a967f6",
   "metadata": {},
   "outputs": [
    {
     "name": "stdout",
     "output_type": "stream",
     "text": [
      "5 John\n"
     ]
    }
   ],
   "source": [
    "#The best way to output multiple variables in the print() function is to separate them with commas, which even support different data types:\n",
    "\n",
    "x = 5\n",
    "y = \"John\"\n",
    "print(x, y)"
   ]
  },
  {
   "cell_type": "markdown",
   "id": "8aeca40b-5e8d-496a-a53e-b8f7e01a155a",
   "metadata": {},
   "source": [
    "Consider the following code:\n",
    "print('Hello', 'World')\n",
    "What will be the printed result?"
   ]
  },
  {
   "cell_type": "markdown",
   "id": "5b88c710-4314-48e8-82e0-02ef10791a11",
   "metadata": {},
   "source": [
    "Hello World"
   ]
  },
  {
   "cell_type": "markdown",
   "id": "ca7a406a-1b93-4f29-9b57-20c3fe559c65",
   "metadata": {},
   "source": [
    "Consider the following code:\n",
    "a = 'Hello'\n",
    "b = 'World'\n",
    "print(a + b)\n",
    "What will be the printed result?"
   ]
  },
  {
   "cell_type": "markdown",
   "id": "30898ac2-d473-4e5e-b924-b4a47f532275",
   "metadata": {},
   "source": [
    "HelloWorld"
   ]
  },
  {
   "cell_type": "markdown",
   "id": "bd293f79-a7df-4ab9-b4bb-07bdd668ecee",
   "metadata": {},
   "source": [
    "Consider the following code:\n",
    "a = 4\n",
    "b = 5\n",
    "print(a + b)\n",
    "What will be the printed result?"
   ]
  },
  {
   "cell_type": "markdown",
   "id": "f99ba695-918c-4e29-80ef-debdbf53c830",
   "metadata": {},
   "source": [
    "9"
   ]
  },
  {
   "cell_type": "markdown",
   "id": "45e574b5-9462-4971-af4c-e79ceaea6b87",
   "metadata": {},
   "source": [
    "Global variables"
   ]
  },
  {
   "cell_type": "code",
   "execution_count": 118,
   "id": "f13bc5ce-adc1-4aa9-bb4b-eda9b90c92d0",
   "metadata": {},
   "outputs": [
    {
     "name": "stdout",
     "output_type": "stream",
     "text": [
      "Python is awesome\n"
     ]
    }
   ],
   "source": [
    "#Create a variable outside of a function, and use it inside the function\n",
    "\n",
    "x = \"awesome\"\n",
    "\n",
    "def myfunc():\n",
    "  print(\"Python is \" + x)\n",
    "\n",
    "myfunc()"
   ]
  },
  {
   "cell_type": "code",
   "execution_count": 120,
   "id": "b6a658c6-49a1-43a6-b106-5acc58cda52e",
   "metadata": {},
   "outputs": [
    {
     "name": "stdout",
     "output_type": "stream",
     "text": [
      "Python is fantastic\n",
      "Python is awesome\n"
     ]
    }
   ],
   "source": [
    "#Create a variable inside a function, with the same name as the global variable\n",
    "\n",
    "x = \"awesome\"\n",
    "\n",
    "def myfunc():\n",
    "  x = \"fantastic\"\n",
    "  print(\"Python is \" + x)\n",
    "\n",
    "myfunc()\n",
    "\n",
    "print(\"Python is \" + x)"
   ]
  },
  {
   "cell_type": "code",
   "execution_count": 122,
   "id": "bbe0ff5e-2c66-4968-a8a4-2e71ac73aa5e",
   "metadata": {},
   "outputs": [
    {
     "name": "stdout",
     "output_type": "stream",
     "text": [
      "Python is fantastic\n"
     ]
    }
   ],
   "source": [
    "#If you use the global keyword, the variable belongs to the global scope:\n",
    "\n",
    "def myfunc():\n",
    "  global x\n",
    "  x = \"fantastic\"\n",
    "\n",
    "myfunc()\n",
    "\n",
    "print(\"Python is \" + x)"
   ]
  },
  {
   "cell_type": "code",
   "execution_count": 124,
   "id": "45050863-ea6c-47b5-9ee0-036c5dd60797",
   "metadata": {},
   "outputs": [
    {
     "name": "stdout",
     "output_type": "stream",
     "text": [
      "Python is fantastic\n"
     ]
    }
   ],
   "source": [
    "#To change the value of a global variable inside a function, refer to the variable by using the global keyword:\n",
    "\n",
    "x = \"awesome\"\n",
    "\n",
    "def myfunc():\n",
    "  global x\n",
    "  x = \"fantastic\"\n",
    "\n",
    "myfunc()\n",
    "\n",
    "print(\"Python is \" + x)\n"
   ]
  },
  {
   "cell_type": "markdown",
   "id": "d4a81374-0984-46a6-a656-6e6a6cec290f",
   "metadata": {},
   "source": [
    "Consider the following code:\n",
    "x = 'awesome'\n",
    "def myfunc():\n",
    "  x = 'fantastic'\n",
    "myfunc()\n",
    "print('Python is ' + x)\n",
    "What will be the printed result?"
   ]
  },
  {
   "cell_type": "markdown",
   "id": "e32d26a4-2f30-400f-afdd-125529c2e5ff",
   "metadata": {},
   "source": [
    "awesome"
   ]
  },
  {
   "cell_type": "markdown",
   "id": "756f7807-c408-4fc3-9ad5-1aed3cfa47fb",
   "metadata": {},
   "source": [
    "Insert the correct keyword to make the variable x belong to the global scope."
   ]
  },
  {
   "cell_type": "code",
   "execution_count": 131,
   "id": "6348417a-921a-4546-9f04-c29999d4e140",
   "metadata": {},
   "outputs": [],
   "source": [
    "def myfunc():\n",
    "  global x\n",
    "  x = \"fantastic\"\n"
   ]
  },
  {
   "cell_type": "markdown",
   "id": "298341e6-ea46-442f-808b-7737894434f3",
   "metadata": {},
   "source": [
    "Consider the following code:\n",
    "x = 'awesome'\n",
    "def myfunc():\n",
    "  global x\n",
    "  x = 'fantastic'\n",
    "myfunc()\n",
    "print('Python is ' + x)\n",
    "What will be the printed result?"
   ]
  },
  {
   "cell_type": "markdown",
   "id": "c56d9500-b0eb-41a5-a5db-bb7e28e77cd2",
   "metadata": {},
   "source": [
    "fantastic1"
   ]
  },
  {
   "cell_type": "markdown",
   "id": "4df525f0-f66a-4f48-aa39-990ade629807",
   "metadata": {},
   "source": [
    "Data types"
   ]
  },
  {
   "cell_type": "code",
   "execution_count": 138,
   "id": "7f19e706-7f22-4702-8a88-33e27d7d8ca6",
   "metadata": {},
   "outputs": [
    {
     "name": "stdout",
     "output_type": "stream",
     "text": [
      "<class 'int'>\n"
     ]
    }
   ],
   "source": [
    "#Print the data type of the variable x:\n",
    "\n",
    "x = 5\n",
    "print(type(x))"
   ]
  },
  {
   "cell_type": "code",
   "execution_count": 142,
   "id": "42c92606-e0e0-4cd2-be59-5cd500dc4e13",
   "metadata": {},
   "outputs": [
    {
     "name": "stdout",
     "output_type": "stream",
     "text": [
      "<class 'str'>\n"
     ]
    }
   ],
   "source": [
    "x = \"Hello World\"\t\n",
    "print(type(x))"
   ]
  },
  {
   "cell_type": "code",
   "execution_count": 144,
   "id": "f2612904-abf5-4adf-8eda-f6ac6b92c728",
   "metadata": {},
   "outputs": [
    {
     "name": "stdout",
     "output_type": "stream",
     "text": [
      "<class 'int'>\n"
     ]
    }
   ],
   "source": [
    "x = 20\t\n",
    "print(type(x))"
   ]
  },
  {
   "cell_type": "code",
   "execution_count": 146,
   "id": "6e40cf6c-3199-482b-8520-f227c4b719fa",
   "metadata": {},
   "outputs": [
    {
     "name": "stdout",
     "output_type": "stream",
     "text": [
      "<class 'float'>\n"
     ]
    }
   ],
   "source": [
    "x = 20.5\t\n",
    "print(type(x))"
   ]
  },
  {
   "cell_type": "code",
   "execution_count": 148,
   "id": "366d18a2-982b-4570-b463-911a3b08e913",
   "metadata": {},
   "outputs": [
    {
     "name": "stdout",
     "output_type": "stream",
     "text": [
      "<class 'complex'>\n"
     ]
    }
   ],
   "source": [
    "x = 1j\n",
    "print(type(x))"
   ]
  },
  {
   "cell_type": "code",
   "execution_count": 150,
   "id": "b9226ae4-ec32-4808-8e4a-3a5448906442",
   "metadata": {},
   "outputs": [
    {
     "name": "stdout",
     "output_type": "stream",
     "text": [
      "<class 'list'>\n"
     ]
    }
   ],
   "source": [
    "x = [\"apple\", \"banana\", \"cherry\"]\t\n",
    "print(type(x))"
   ]
  },
  {
   "cell_type": "code",
   "execution_count": 152,
   "id": "736bada0-4e82-4db5-bacf-51ac0209f8b2",
   "metadata": {},
   "outputs": [
    {
     "name": "stdout",
     "output_type": "stream",
     "text": [
      "<class 'tuple'>\n"
     ]
    }
   ],
   "source": [
    "x = (\"apple\", \"banana\", \"cherry\")\t\n",
    "print(type(x))"
   ]
  },
  {
   "cell_type": "code",
   "execution_count": 154,
   "id": "f9c8bbfb-97ab-4154-acdb-820c849adf26",
   "metadata": {},
   "outputs": [
    {
     "name": "stdout",
     "output_type": "stream",
     "text": [
      "<class 'range'>\n"
     ]
    }
   ],
   "source": [
    "x = range(6)\t\n",
    "print(type(x))"
   ]
  },
  {
   "cell_type": "code",
   "execution_count": 156,
   "id": "42fa9911-d51f-4a4b-8da6-9f2e85cc26b9",
   "metadata": {},
   "outputs": [
    {
     "name": "stdout",
     "output_type": "stream",
     "text": [
      "<class 'dict'>\n"
     ]
    }
   ],
   "source": [
    "x = {\"name\" : \"John\", \"age\" : 36}\t\n",
    "print(type(x))"
   ]
  },
  {
   "cell_type": "code",
   "execution_count": 158,
   "id": "65e1af91-639c-4448-9eb2-86f1efe83249",
   "metadata": {},
   "outputs": [
    {
     "name": "stdout",
     "output_type": "stream",
     "text": [
      "<class 'set'>\n"
     ]
    }
   ],
   "source": [
    "x = {\"apple\", \"banana\", \"cherry\"}\t\n",
    "print(type(x))"
   ]
  },
  {
   "cell_type": "code",
   "execution_count": 160,
   "id": "cd2348a5-461c-4e49-9319-552ee5c0a402",
   "metadata": {},
   "outputs": [
    {
     "name": "stdout",
     "output_type": "stream",
     "text": [
      "<class 'frozenset'>\n"
     ]
    }
   ],
   "source": [
    "x = frozenset({\"apple\", \"banana\", \"cherry\"})\t\n",
    "print(type(x))"
   ]
  },
  {
   "cell_type": "code",
   "execution_count": 162,
   "id": "e442cd64-62eb-4343-a113-3f9d259aa653",
   "metadata": {},
   "outputs": [
    {
     "name": "stdout",
     "output_type": "stream",
     "text": [
      "<class 'bool'>\n"
     ]
    }
   ],
   "source": [
    "x = True\t\n",
    "print(type(x))"
   ]
  },
  {
   "cell_type": "code",
   "execution_count": 164,
   "id": "b32b9ede-0f5d-4929-ac78-d3cc9fd4bcf1",
   "metadata": {},
   "outputs": [
    {
     "name": "stdout",
     "output_type": "stream",
     "text": [
      "<class 'bool'>\n"
     ]
    }
   ],
   "source": [
    "x = True\t\n",
    "print(type(x))"
   ]
  },
  {
   "cell_type": "code",
   "execution_count": 166,
   "id": "4eca0472-639e-4934-a7c4-9f98240facce",
   "metadata": {},
   "outputs": [
    {
     "name": "stdout",
     "output_type": "stream",
     "text": [
      "<class 'bytes'>\n"
     ]
    }
   ],
   "source": [
    "x = b\"Hello\"\n",
    "print(type(x))"
   ]
  },
  {
   "cell_type": "code",
   "execution_count": 168,
   "id": "2304d727-b650-48b1-95fc-16043525c444",
   "metadata": {},
   "outputs": [
    {
     "name": "stdout",
     "output_type": "stream",
     "text": [
      "<class 'bytearray'>\n"
     ]
    }
   ],
   "source": [
    "x = bytearray(5)\t\n",
    "print(type(x))"
   ]
  },
  {
   "cell_type": "code",
   "execution_count": 170,
   "id": "40859d7b-298d-400b-acb7-f543a10abea0",
   "metadata": {},
   "outputs": [
    {
     "name": "stdout",
     "output_type": "stream",
     "text": [
      "<class 'memoryview'>\n"
     ]
    }
   ],
   "source": [
    "x = memoryview(bytes(5))\n",
    "print(type(x))"
   ]
  },
  {
   "cell_type": "code",
   "execution_count": 172,
   "id": "75738cec-eeb6-4b55-88f1-e8002f7cc5fc",
   "metadata": {},
   "outputs": [
    {
     "name": "stdout",
     "output_type": "stream",
     "text": [
      "<class 'NoneType'>\n"
     ]
    }
   ],
   "source": [
    "x = None\t\n",
    "print(type(x))"
   ]
  },
  {
   "cell_type": "code",
   "execution_count": 174,
   "id": "46f67c4f-1a4b-4571-b6b6-fdcbf7defd8a",
   "metadata": {},
   "outputs": [
    {
     "name": "stdout",
     "output_type": "stream",
     "text": [
      "<class 'str'>\n"
     ]
    }
   ],
   "source": [
    "x = str(\"Hello World\")\t\n",
    "print(type(x))"
   ]
  },
  {
   "cell_type": "code",
   "execution_count": 176,
   "id": "46ed45fd-d8de-4eff-b10d-72ac09abef63",
   "metadata": {},
   "outputs": [
    {
     "name": "stdout",
     "output_type": "stream",
     "text": [
      "<class 'int'>\n"
     ]
    }
   ],
   "source": [
    "x = int(20)\t\n",
    "print(type(x))"
   ]
  },
  {
   "cell_type": "code",
   "execution_count": 178,
   "id": "f395d2cf-f7d6-4bd6-a2c8-388de8350c04",
   "metadata": {},
   "outputs": [
    {
     "name": "stdout",
     "output_type": "stream",
     "text": [
      "<class 'float'>\n"
     ]
    }
   ],
   "source": [
    "x = float(20.5)\t\n",
    "print(type(x))"
   ]
  },
  {
   "cell_type": "code",
   "execution_count": 180,
   "id": "1f2c1922-d5fc-483b-8cbe-0cdf30ed567e",
   "metadata": {},
   "outputs": [
    {
     "name": "stdout",
     "output_type": "stream",
     "text": [
      "<class 'complex'>\n"
     ]
    }
   ],
   "source": [
    "x = complex(1j)\t\n",
    "print(type(x))"
   ]
  },
  {
   "cell_type": "code",
   "execution_count": 182,
   "id": "f43ab0dc-a755-4b5d-80c7-791113259fdf",
   "metadata": {},
   "outputs": [
    {
     "name": "stdout",
     "output_type": "stream",
     "text": [
      "['apple', 'banana', 'cherry']\n",
      "<class 'list'>\n"
     ]
    }
   ],
   "source": [
    "x = list((\"apple\", \"banana\", \"cherry\"))\n",
    "print(x)\n",
    "print(type(x))"
   ]
  },
  {
   "cell_type": "code",
   "execution_count": 184,
   "id": "5c306a34-e5d1-4758-8910-17f64801bdfb",
   "metadata": {},
   "outputs": [
    {
     "name": "stdout",
     "output_type": "stream",
     "text": [
      "('apple', 'banana', 'cherry')\n",
      "<class 'tuple'>\n"
     ]
    }
   ],
   "source": [
    "x = tuple((\"apple\", \"banana\", \"cherry\"))\t\n",
    "print(x)\n",
    "print(type(x))"
   ]
  },
  {
   "cell_type": "code",
   "execution_count": 186,
   "id": "353bcb2e-a630-4212-bcce-df4bfc89e506",
   "metadata": {},
   "outputs": [
    {
     "name": "stdout",
     "output_type": "stream",
     "text": [
      "range(0, 6)\n",
      "<class 'range'>\n"
     ]
    }
   ],
   "source": [
    "x = range(6)\t\n",
    "print(x)\n",
    "print(type(x))"
   ]
  },
  {
   "cell_type": "code",
   "execution_count": 188,
   "id": "d2444668-05d4-4bc0-b50d-9d79d3e895d9",
   "metadata": {},
   "outputs": [
    {
     "name": "stdout",
     "output_type": "stream",
     "text": [
      "{'name': 'John', 'age': 36}\n",
      "<class 'dict'>\n"
     ]
    }
   ],
   "source": [
    "x = dict(name=\"John\", age=36)\t\n",
    "print(x)\n",
    "print(type(x))"
   ]
  },
  {
   "cell_type": "code",
   "execution_count": 190,
   "id": "3459890b-8884-4a8c-944f-a52c52bf862b",
   "metadata": {},
   "outputs": [
    {
     "name": "stdout",
     "output_type": "stream",
     "text": [
      "{'banana', 'apple', 'cherry'}\n",
      "<class 'set'>\n"
     ]
    }
   ],
   "source": [
    "x = set((\"apple\", \"banana\", \"cherry\"))\t\n",
    "print(x)\n",
    "print(type(x))"
   ]
  },
  {
   "cell_type": "code",
   "execution_count": 192,
   "id": "bed1016c-f2ea-46bf-9aae-b08d3e036822",
   "metadata": {},
   "outputs": [
    {
     "name": "stdout",
     "output_type": "stream",
     "text": [
      "frozenset({'banana', 'apple', 'cherry'})\n",
      "<class 'frozenset'>\n"
     ]
    }
   ],
   "source": [
    "x = frozenset((\"apple\", \"banana\", \"cherry\"))\n",
    "print(x)\n",
    "print(type(x))"
   ]
  },
  {
   "cell_type": "code",
   "execution_count": 194,
   "id": "acd697cf-54cf-4524-be93-ecebbee99930",
   "metadata": {},
   "outputs": [
    {
     "name": "stdout",
     "output_type": "stream",
     "text": [
      "True\n",
      "<class 'bool'>\n"
     ]
    }
   ],
   "source": [
    "x = bool(5)\t\n",
    "print(x)\n",
    "print(type(x))"
   ]
  },
  {
   "cell_type": "code",
   "execution_count": 196,
   "id": "102c5808-4fda-4493-b933-84866d35240a",
   "metadata": {},
   "outputs": [
    {
     "name": "stdout",
     "output_type": "stream",
     "text": [
      "b'\\x00\\x00\\x00\\x00\\x00'\n",
      "<class 'bytes'>\n"
     ]
    }
   ],
   "source": [
    "x = bytes(5)\t\n",
    "print(x)\n",
    "print(type(x))"
   ]
  },
  {
   "cell_type": "code",
   "execution_count": 198,
   "id": "e4ad5544-9221-4925-911d-bbf11f0f1154",
   "metadata": {},
   "outputs": [
    {
     "name": "stdout",
     "output_type": "stream",
     "text": [
      "bytearray(b'\\x00\\x00\\x00\\x00\\x00')\n",
      "<class 'bytearray'>\n"
     ]
    }
   ],
   "source": [
    "x = bytearray(5)\t\n",
    "print(x)\n",
    "print(type(x))"
   ]
  },
  {
   "cell_type": "code",
   "execution_count": 200,
   "id": "755cb674-3d5c-4aae-b10b-eecc6adf730a",
   "metadata": {},
   "outputs": [
    {
     "name": "stdout",
     "output_type": "stream",
     "text": [
      "<memory at 0x000001FD7562A800>\n",
      "<class 'memoryview'>\n"
     ]
    }
   ],
   "source": [
    "x = memoryview(bytes(5))\n",
    "print(x)\n",
    "print(type(x))\t"
   ]
  },
  {
   "cell_type": "markdown",
   "id": "38c547f3-52fc-4302-8f79-e6357ff9978b",
   "metadata": {},
   "source": [
    "If x = 5, what is a correct syntax for printing the data type of the variable x?"
   ]
  },
  {
   "cell_type": "code",
   "execution_count": 203,
   "id": "f0acdd69-7fbf-4582-a7c6-74b541ec636d",
   "metadata": {},
   "outputs": [
    {
     "name": "stdout",
     "output_type": "stream",
     "text": [
      "<class 'int'>\n"
     ]
    }
   ],
   "source": [
    "x=5\n",
    "print(type(x))"
   ]
  },
  {
   "cell_type": "markdown",
   "id": "1ab644b8-0dfb-4cee-805c-0ad8743078dd",
   "metadata": {},
   "source": [
    "The following code example would print the data type of x, what data type would that be? x = 5\n",
    "print(type(x))"
   ]
  },
  {
   "cell_type": "markdown",
   "id": "ddea02e9-7983-4c67-a503-72313ba7240c",
   "metadata": {},
   "source": [
    "int"
   ]
  },
  {
   "cell_type": "markdown",
   "id": "a20b6b98-77e7-4f83-8cf7-747431858c5e",
   "metadata": {},
   "source": [
    "The following code example would print the data type of x, what data type would that be?\n",
    "\n",
    "\n",
    "x = \"Hello World\"\n",
    "print(type(x))"
   ]
  },
  {
   "cell_type": "markdown",
   "id": "183e3ac0-637f-4618-9d79-149f32b8c8be",
   "metadata": {},
   "source": [
    "str"
   ]
  },
  {
   "cell_type": "markdown",
   "id": "2898df62-4c96-4142-8f49-077a3203cf11",
   "metadata": {},
   "source": [
    "The following code example would print the data type of x, what data type would that be?\n",
    "\n",
    "\n",
    "x = 20.5\n",
    "print(type(x))\n"
   ]
  },
  {
   "cell_type": "markdown",
   "id": "38805f4e-b591-443a-a73e-0b321dce51ba",
   "metadata": {},
   "source": [
    "float"
   ]
  },
  {
   "cell_type": "markdown",
   "id": "7a85402b-9d55-4066-bdc2-7d14e2b24d46",
   "metadata": {},
   "source": [
    "The following code example would print the data type of x, what data type would that be?\n",
    "\n",
    "\n",
    "x = [\"apple\", \"banana\", \"cherry\"]\n",
    "print(type(x))"
   ]
  },
  {
   "cell_type": "markdown",
   "id": "090a336d-98fb-4c74-824c-2fee437d7ca9",
   "metadata": {},
   "source": [
    "list"
   ]
  },
  {
   "cell_type": "markdown",
   "id": "e436cc91-0471-4592-b24f-6c9dd38b32e3",
   "metadata": {},
   "source": [
    "The following code example would print the data type of x, what data type would that be?\n",
    "\n",
    "\n",
    "x = (\"apple\", \"banana\", \"cherry\")\n",
    "print(type(x))\n"
   ]
  },
  {
   "cell_type": "markdown",
   "id": "63c3e402-020f-42ce-ba8d-4c85da2bce4b",
   "metadata": {},
   "source": [
    "tuple"
   ]
  },
  {
   "cell_type": "markdown",
   "id": "7fe4d5c3-09f7-4c8f-84c0-95a6fc31a5d4",
   "metadata": {},
   "source": [
    "The following code example would print the data type of x, what data type would that be?\n",
    "\n",
    "\n",
    "x = {\"name\" : \"John\", \"age\" : 36}\n",
    "print(type(x))"
   ]
  },
  {
   "cell_type": "markdown",
   "id": "b7f970cb-1849-4f39-a88f-0fa326a1b1b3",
   "metadata": {},
   "source": [
    "dict"
   ]
  },
  {
   "cell_type": "markdown",
   "id": "4363d575-85c6-45ee-8952-a964da040176",
   "metadata": {},
   "source": [
    "The following code example would print the data type of x, what data type would that be?\n",
    "\n",
    "\n",
    "x = True\n",
    "print(type(x))\n"
   ]
  },
  {
   "cell_type": "markdown",
   "id": "ae38e430-aa29-4895-9ccf-12fa6c6fc9d4",
   "metadata": {},
   "source": [
    "bool"
   ]
  },
  {
   "cell_type": "markdown",
   "id": "c8862b6f-c042-4fca-bb22-927edb787ddc",
   "metadata": {},
   "source": [
    "NUMBERS"
   ]
  },
  {
   "cell_type": "code",
   "execution_count": 222,
   "id": "4de1b531-6566-459c-8ad8-fde4c0ac8f9f",
   "metadata": {},
   "outputs": [
    {
     "name": "stdout",
     "output_type": "stream",
     "text": [
      "<class 'int'>\n",
      "<class 'float'>\n",
      "<class 'complex'>\n"
     ]
    }
   ],
   "source": [
    "x = 1    # int\n",
    "y = 2.8  # float\n",
    "z = 1j   # complex\n",
    "#To verify the type of any object in Python, use the type() function:\n",
    "\n",
    "print(type(x))\n",
    "print(type(y))\n",
    "print(type(z))"
   ]
  },
  {
   "cell_type": "code",
   "execution_count": 224,
   "id": "17eb96c9-c4ef-4fb5-ac0f-05707c11dd9e",
   "metadata": {},
   "outputs": [
    {
     "name": "stdout",
     "output_type": "stream",
     "text": [
      "<class 'int'>\n",
      "<class 'int'>\n",
      "<class 'int'>\n"
     ]
    }
   ],
   "source": [
    "#Integers:\n",
    "\n",
    "x = 1\n",
    "y = 35656222554887711\n",
    "z = -3255522\n",
    "\n",
    "print(type(x))\n",
    "print(type(y))\n",
    "print(type(z))"
   ]
  },
  {
   "cell_type": "code",
   "execution_count": 226,
   "id": "0acde684-a57f-4df5-b5f7-1bd26d556401",
   "metadata": {},
   "outputs": [
    {
     "name": "stdout",
     "output_type": "stream",
     "text": [
      "<class 'float'>\n",
      "<class 'float'>\n",
      "<class 'float'>\n"
     ]
    }
   ],
   "source": [
    "#Floats:\n",
    "\n",
    "x = 1.10\n",
    "y = 1.0\n",
    "z = -35.59\n",
    "\n",
    "print(type(x))\n",
    "print(type(y))\n",
    "print(type(z))"
   ]
  },
  {
   "cell_type": "code",
   "execution_count": 228,
   "id": "1d6f10f0-c5f3-44f0-9607-38d8b7d0edaf",
   "metadata": {},
   "outputs": [
    {
     "name": "stdout",
     "output_type": "stream",
     "text": [
      "<class 'float'>\n",
      "<class 'float'>\n",
      "<class 'float'>\n"
     ]
    }
   ],
   "source": [
    "#Floats:\n",
    "\n",
    "x = 35e3\n",
    "y = 12E4\n",
    "z = -87.7e100\n",
    "\n",
    "print(type(x))\n",
    "print(type(y))\n",
    "print(type(z))"
   ]
  },
  {
   "cell_type": "code",
   "execution_count": 230,
   "id": "21046d65-6f48-4eac-bf8b-1d72a800ca9b",
   "metadata": {},
   "outputs": [
    {
     "name": "stdout",
     "output_type": "stream",
     "text": [
      "<class 'complex'>\n",
      "<class 'complex'>\n",
      "<class 'complex'>\n"
     ]
    }
   ],
   "source": [
    "#Complex:\n",
    "\n",
    "x = 3+5j\n",
    "y = 5j\n",
    "z = -5j\n",
    "\n",
    "print(type(x))\n",
    "print(type(y))\n",
    "print(type(z))"
   ]
  },
  {
   "cell_type": "code",
   "execution_count": 232,
   "id": "20c5e90a-1d58-4820-9472-e467c422fefe",
   "metadata": {},
   "outputs": [
    {
     "name": "stdout",
     "output_type": "stream",
     "text": [
      "1.0\n",
      "2\n",
      "(1+0j)\n",
      "<class 'float'>\n",
      "<class 'int'>\n",
      "<class 'complex'>\n"
     ]
    }
   ],
   "source": [
    "#Convert from one type to another:\n",
    "\n",
    "x = 1    # int\n",
    "y = 2.8  # float\n",
    "z = 1j   # complex\n",
    "\n",
    "#convert from int to float:\n",
    "a = float(x)\n",
    "\n",
    "#convert from float to int:\n",
    "b = int(y)\n",
    "\n",
    "#convert from int to complex:\n",
    "c = complex(x)\n",
    "\n",
    "print(a)\n",
    "print(b)\n",
    "print(c)\n",
    "\n",
    "print(type(a))\n",
    "print(type(b))\n",
    "print(type(c))"
   ]
  },
  {
   "cell_type": "code",
   "execution_count": 234,
   "id": "f72b5780-7aec-4cdb-8689-640fb4b238d1",
   "metadata": {},
   "outputs": [
    {
     "name": "stdout",
     "output_type": "stream",
     "text": [
      "5\n"
     ]
    }
   ],
   "source": [
    "#import the random module, and display a random number between 1 and 9:\n",
    "\n",
    "import random\n",
    "\n",
    "print(random.randrange(1, 10))"
   ]
  },
  {
   "cell_type": "markdown",
   "id": "d05a9815-793d-4d77-b2a4-7736c28c6bb1",
   "metadata": {},
   "source": [
    "Which is NOT a legal numeric data type in Python:"
   ]
  },
  {
   "cell_type": "markdown",
   "id": "32419402-a1bb-4616-9bd6-969f7c900714",
   "metadata": {},
   "source": [
    "long"
   ]
  },
  {
   "cell_type": "markdown",
   "id": "4594beee-e0d2-4b4f-b68c-a322b37e53a6",
   "metadata": {},
   "source": [
    "Insert the correct syntax to convert x into a floating point number."
   ]
  },
  {
   "cell_type": "code",
   "execution_count": 239,
   "id": "1bc98440-d79d-46d4-ba4a-43726cb92ee2",
   "metadata": {},
   "outputs": [],
   "source": [
    "x = 5\n",
    "x = float(x)"
   ]
  },
  {
   "cell_type": "markdown",
   "id": "24753038-b08f-4cd7-848b-30dc901895e4",
   "metadata": {},
   "source": [
    "Insert the correct syntax to convert x into a integer."
   ]
  },
  {
   "cell_type": "code",
   "execution_count": 242,
   "id": "3fff051b-77d5-464c-b104-daba4227319d",
   "metadata": {},
   "outputs": [],
   "source": [
    "x = 5.5\n",
    "x =int(x)"
   ]
  },
  {
   "cell_type": "markdown",
   "id": "bdd3df66-4daa-429f-9e1c-58fc8e1a5d9a",
   "metadata": {},
   "source": [
    "Insert the correct syntax to convert x into a complex number.\n",
    "\n"
   ]
  },
  {
   "cell_type": "code",
   "execution_count": 245,
   "id": "31698b0a-f67c-45a6-a2e9-f8cd3827a7fb",
   "metadata": {},
   "outputs": [],
   "source": [
    "x = 5\n",
    "x =complex(x)"
   ]
  },
  {
   "cell_type": "markdown",
   "id": "f519fb12-f341-4474-9ba0-63620e94ce53",
   "metadata": {},
   "source": [
    "CASTING"
   ]
  },
  {
   "cell_type": "code",
   "execution_count": 248,
   "id": "bef72406-6bd8-410a-9b7e-835077df5839",
   "metadata": {},
   "outputs": [],
   "source": [
    "#Integers:\n",
    "\n",
    "x = int(1)   # x will be 1\n",
    "y = int(2.8) # y will be 2\n",
    "z = int(\"3\") # z will be 3"
   ]
  },
  {
   "cell_type": "code",
   "execution_count": 250,
   "id": "0cc1c37d-acce-4ad7-9aa1-51dee3012f50",
   "metadata": {},
   "outputs": [],
   "source": [
    "#Floats:\n",
    "\n",
    "x = float(1)     # x will be 1.0\n",
    "y = float(2.8)   # y will be 2.8\n",
    "z = float(\"3\")   # z will be 3.0\n",
    "w = float(\"4.2\") # w will be 4.2"
   ]
  },
  {
   "cell_type": "code",
   "execution_count": 252,
   "id": "78bc48ba-cc42-485a-959e-56b3c08305da",
   "metadata": {},
   "outputs": [],
   "source": [
    "#Strings:\n",
    "\n",
    "x = str(\"s1\") # x will be 's1'\n",
    "y = str(2)    # y will be '2'\n",
    "z = str(3.0)  # z will be '3.0'"
   ]
  },
  {
   "cell_type": "markdown",
   "id": "c6181a25-ab2a-4480-90b1-41fbc13fa988",
   "metadata": {},
   "source": [
    "What will be the result of the following code:\n",
    "print(int(35.88))"
   ]
  },
  {
   "cell_type": "markdown",
   "id": "77742f57-8d4b-4844-a2cd-215fe7036ce8",
   "metadata": {},
   "source": [
    "35"
   ]
  },
  {
   "cell_type": "markdown",
   "id": "5fc4285d-3549-49fa-bf3e-2549aaafef9c",
   "metadata": {},
   "source": [
    "What will be the result of the following code:\n",
    "print(float(35))"
   ]
  },
  {
   "cell_type": "markdown",
   "id": "c0782dfe-f1ca-4872-8ccb-c3eabaa8f1b7",
   "metadata": {},
   "source": [
    "35.0"
   ]
  },
  {
   "cell_type": "markdown",
   "id": "0c670a4a-0555-4da7-bf81-ac4f5b664aab",
   "metadata": {},
   "source": [
    "What will be the result of the following code:\n",
    "print(str(35.82))\n"
   ]
  },
  {
   "cell_type": "markdown",
   "id": "e8da7bde-2fcc-4d0a-8fdc-213278937266",
   "metadata": {},
   "source": [
    "35.82"
   ]
  },
  {
   "cell_type": "markdown",
   "id": "0110e0fa-1c69-424d-8bc1-73dd826d5a0d",
   "metadata": {},
   "source": [
    "STRINGS"
   ]
  },
  {
   "cell_type": "code",
   "execution_count": 263,
   "id": "86588f49-2eb1-4b13-b821-7cce4b29728f",
   "metadata": {},
   "outputs": [
    {
     "name": "stdout",
     "output_type": "stream",
     "text": [
      "Hello\n",
      "Hello\n"
     ]
    }
   ],
   "source": [
    "#You can display a string literal with the print() function:\n",
    "\n",
    "print(\"Hello\")\n",
    "print('Hello')"
   ]
  },
  {
   "cell_type": "code",
   "execution_count": 265,
   "id": "3c497fe7-0765-4ea1-a2f7-8bf2ab824474",
   "metadata": {},
   "outputs": [
    {
     "name": "stdout",
     "output_type": "stream",
     "text": [
      "It's alright\n",
      "He is called 'Johnny'\n",
      "He is called \"Johnny\"\n"
     ]
    }
   ],
   "source": [
    "#You can use quotes inside a string, as long as they don't match the quotes surrounding the string:\n",
    "\n",
    "print(\"It's alright\")\n",
    "print(\"He is called 'Johnny'\")\n",
    "print('He is called \"Johnny\"')"
   ]
  },
  {
   "cell_type": "code",
   "execution_count": 267,
   "id": "d7eb22eb-8bb6-41e8-b658-153ddb65d7af",
   "metadata": {},
   "outputs": [
    {
     "name": "stdout",
     "output_type": "stream",
     "text": [
      "Hello\n"
     ]
    }
   ],
   "source": [
    "#Assigning a string to a variable is done with the variable name followed by an equal sign and the string:\n",
    "\n",
    "a = \"Hello\"\n",
    "print(a)"
   ]
  },
  {
   "cell_type": "code",
   "execution_count": 269,
   "id": "66bd9540-5cbe-4f8f-b273-eac27edde649",
   "metadata": {},
   "outputs": [
    {
     "name": "stdout",
     "output_type": "stream",
     "text": [
      "Lorem ipsum dolor sit amet,\n",
      "consectetur adipiscing elit,\n",
      "sed do eiusmod tempor incididunt\n",
      "ut labore et dolore magna aliqua.\n"
     ]
    }
   ],
   "source": [
    "#You can use three double quotes:\n",
    "\n",
    "a = \"\"\"Lorem ipsum dolor sit amet,\n",
    "consectetur adipiscing elit,\n",
    "sed do eiusmod tempor incididunt\n",
    "ut labore et dolore magna aliqua.\"\"\"\n",
    "print(a)"
   ]
  },
  {
   "cell_type": "code",
   "execution_count": 271,
   "id": "6c0c67d7-b111-4c23-bb66-38d8060a1555",
   "metadata": {},
   "outputs": [
    {
     "name": "stdout",
     "output_type": "stream",
     "text": [
      "Lorem ipsum dolor sit amet,\n",
      "consectetur adipiscing elit,\n",
      "sed do eiusmod tempor incididunt\n",
      "ut labore et dolore magna aliqua.\n"
     ]
    }
   ],
   "source": [
    "#Or three single quotes:\n",
    "\n",
    "a = '''Lorem ipsum dolor sit amet,\n",
    "consectetur adipiscing elit,\n",
    "sed do eiusmod tempor incididunt\n",
    "ut labore et dolore magna aliqua.'''\n",
    "print(a)"
   ]
  },
  {
   "cell_type": "code",
   "execution_count": 273,
   "id": "d286f7bb-7668-4b5d-badb-4d2713c396c3",
   "metadata": {},
   "outputs": [
    {
     "name": "stdout",
     "output_type": "stream",
     "text": [
      "e\n"
     ]
    }
   ],
   "source": [
    "#Get the character at position 1 (remember that the first character has the position 0):\n",
    "\n",
    "a = \"Hello, World!\"\n",
    "print(a[1])"
   ]
  },
  {
   "cell_type": "code",
   "execution_count": 275,
   "id": "130d9813-6212-4336-889f-5561648214fe",
   "metadata": {},
   "outputs": [
    {
     "name": "stdout",
     "output_type": "stream",
     "text": [
      "b\n",
      "a\n",
      "n\n",
      "a\n",
      "n\n",
      "a\n"
     ]
    }
   ],
   "source": [
    "#Loop through the letters in the word \"banana\":\n",
    "\n",
    "for x in \"banana\":\n",
    "  print(x)"
   ]
  },
  {
   "cell_type": "code",
   "execution_count": 277,
   "id": "115c0c15-b579-4dff-8f1d-68c46fe25e41",
   "metadata": {},
   "outputs": [
    {
     "name": "stdout",
     "output_type": "stream",
     "text": [
      "13\n"
     ]
    }
   ],
   "source": [
    "#The len() function returns the length of a string:\n",
    "\n",
    "a = \"Hello, World!\"\n",
    "print(len(a))"
   ]
  },
  {
   "cell_type": "code",
   "execution_count": 279,
   "id": "317a2063-6b99-4d28-9338-0e8a2b877aee",
   "metadata": {},
   "outputs": [
    {
     "name": "stdout",
     "output_type": "stream",
     "text": [
      "True\n"
     ]
    }
   ],
   "source": [
    "#Check if \"free\" is present in the following text:\n",
    "\n",
    "txt = \"The best things in life are free!\"\n",
    "print(\"free\" in txt)"
   ]
  },
  {
   "cell_type": "code",
   "execution_count": 281,
   "id": "b6d6d124-9f6d-40ab-a34b-b41aeb04f26d",
   "metadata": {},
   "outputs": [
    {
     "name": "stdout",
     "output_type": "stream",
     "text": [
      "Yes, 'free' is present.\n"
     ]
    }
   ],
   "source": [
    "#Print only if \"free\" is present:\n",
    "\n",
    "txt = \"The best things in life are free!\"\n",
    "if \"free\" in txt:\n",
    "  print(\"Yes, 'free' is present.\")"
   ]
  },
  {
   "cell_type": "code",
   "execution_count": 283,
   "id": "71cc529b-c4b0-4fcb-840d-3a827b41d56f",
   "metadata": {},
   "outputs": [
    {
     "name": "stdout",
     "output_type": "stream",
     "text": [
      "True\n"
     ]
    }
   ],
   "source": [
    "#Check if \"expensive\" is NOT present in the following text:\n",
    "\n",
    "txt = \"The best things in life are free!\"\n",
    "print(\"expensive\" not in txt)"
   ]
  },
  {
   "cell_type": "code",
   "execution_count": 285,
   "id": "2fdf2fca-c4b2-42ae-ad1b-a9441244259f",
   "metadata": {},
   "outputs": [
    {
     "name": "stdout",
     "output_type": "stream",
     "text": [
      "No, 'expensive' is NOT present.\n"
     ]
    }
   ],
   "source": [
    "#print only if \"expensive\" is NOT present:\n",
    "\n",
    "txt = \"The best things in life are free!\"\n",
    "if \"expensive\" not in txt:\n",
    "  print(\"No, 'expensive' is NOT present.\")"
   ]
  },
  {
   "cell_type": "markdown",
   "id": "5cf58d4f-7a88-4938-a381-7b2bc80d25f8",
   "metadata": {},
   "source": [
    "What will be the result of the following code:\n",
    "x = 'Welcome'\n",
    "print(x[3])"
   ]
  },
  {
   "cell_type": "markdown",
   "id": "cfa0e670-0fe9-407c-a923-806f5f7a8537",
   "metadata": {},
   "source": [
    "c"
   ]
  },
  {
   "cell_type": "markdown",
   "id": "9f3c75c8-8be7-496b-abba-2f7a90e6856c",
   "metadata": {},
   "source": [
    "Use the len function to print the length of the string.\n",
    "\n"
   ]
  },
  {
   "cell_type": "code",
   "execution_count": 290,
   "id": "9b45fff7-5683-4a23-ba89-b4b263a7af16",
   "metadata": {},
   "outputs": [
    {
     "name": "stdout",
     "output_type": "stream",
     "text": [
      "11\n"
     ]
    }
   ],
   "source": [
    "x = \"Hello World\"\n",
    "print(len(x))"
   ]
  },
  {
   "cell_type": "markdown",
   "id": "5d8e8b4d-195d-4643-aa5b-4ae088e0ddba",
   "metadata": {},
   "source": [
    "Get the first character of the string txt."
   ]
  },
  {
   "cell_type": "code",
   "execution_count": 293,
   "id": "49e376b5-73a3-458f-91aa-ac15c831ce65",
   "metadata": {},
   "outputs": [],
   "source": [
    "txt = \"Hello World\"\n",
    "x = txt[0]"
   ]
  },
  {
   "cell_type": "code",
   "execution_count": 295,
   "id": "cdb64397-4123-44b6-92ee-6b30d8227d23",
   "metadata": {},
   "outputs": [
    {
     "name": "stdout",
     "output_type": "stream",
     "text": [
      "Yes, free is present in the text.\n"
     ]
    }
   ],
   "source": [
    "#Insert the correct keyword to check if the word 'free' is present in the text:\n",
    "\n",
    "txt = 'The best things in life are free!'\n",
    "if 'free' in txt:\n",
    "  print('Yes, free is present in the text.')"
   ]
  },
  {
   "cell_type": "markdown",
   "id": "82116c0c-de24-40f5-96d8-d33813058167",
   "metadata": {},
   "source": [
    "Slicing strings"
   ]
  },
  {
   "cell_type": "code",
   "execution_count": 298,
   "id": "55cdd0a0-21a5-48ce-959a-a0550095cc93",
   "metadata": {},
   "outputs": [
    {
     "name": "stdout",
     "output_type": "stream",
     "text": [
      "llo\n"
     ]
    }
   ],
   "source": [
    "#Get the characters from position 2 to position 5 (not included):\n",
    "\n",
    "b = \"Hello, World!\"\n",
    "print(b[2:5])"
   ]
  },
  {
   "cell_type": "code",
   "execution_count": 300,
   "id": "e03b84db-482b-4884-8edc-8eb66ea61872",
   "metadata": {},
   "outputs": [
    {
     "name": "stdout",
     "output_type": "stream",
     "text": [
      "Hello\n"
     ]
    }
   ],
   "source": [
    "#Get the characters from the start to position 5 (not included):\n",
    "\n",
    "b = \"Hello, World!\"\n",
    "print(b[:5])"
   ]
  },
  {
   "cell_type": "code",
   "execution_count": 302,
   "id": "7969cbff-6337-4bea-961a-865b1340b93e",
   "metadata": {},
   "outputs": [
    {
     "name": "stdout",
     "output_type": "stream",
     "text": [
      "llo, World!\n"
     ]
    }
   ],
   "source": [
    "#Get the characters from position 2, and all the way to the end:\n",
    "\n",
    "b = \"Hello, World!\"\n",
    "print(b[2:])"
   ]
  },
  {
   "cell_type": "code",
   "execution_count": 304,
   "id": "368b5e1d-ffb4-45c3-b083-5f48062c3b9e",
   "metadata": {},
   "outputs": [
    {
     "name": "stdout",
     "output_type": "stream",
     "text": [
      "orl\n"
     ]
    }
   ],
   "source": [
    "'''Get the characters:\n",
    "\n",
    "From: \"o\" in \"World!\" (position -5)\n",
    "\n",
    "To, but not included: \"d\" in \"World!\" (position -2):'''\n",
    "\n",
    "b = \"Hello, World!\"\n",
    "print(b[-5:-2])"
   ]
  },
  {
   "cell_type": "markdown",
   "id": "0a4d8c23-61a3-4552-8a97-8a1d917f666c",
   "metadata": {},
   "source": [
    "What will be the result of the following code:\n",
    "x = 'Welcome'\n",
    "print(x[3:5])"
   ]
  },
  {
   "cell_type": "markdown",
   "id": "762abc7d-62a0-4b6f-903a-89355990ae07",
   "metadata": {},
   "source": [
    "co"
   ]
  },
  {
   "cell_type": "markdown",
   "id": "687e6eec-e26e-4744-b49e-48e210455734",
   "metadata": {},
   "source": [
    "Get the characters from index 2 to index 4 (llo)."
   ]
  },
  {
   "cell_type": "code",
   "execution_count": 309,
   "id": "27d5f07a-6ad8-4d4f-b578-855ffd56abd1",
   "metadata": {},
   "outputs": [],
   "source": [
    "txt = \"Hello World\"\n",
    "x = txt[2:5]"
   ]
  },
  {
   "cell_type": "markdown",
   "id": "35fa70a5-2aad-4df1-b43b-227ae85b195f",
   "metadata": {},
   "source": [
    "What will be the result of the following code:\n",
    "x = 'Welcome'\n",
    "print(x[3:])"
   ]
  },
  {
   "cell_type": "markdown",
   "id": "2aefa4c1-0ccc-4588-99af-c1874e926350",
   "metadata": {},
   "source": [
    "come"
   ]
  },
  {
   "cell_type": "markdown",
   "id": "c61f6adb-4852-439d-ab5f-b84e5af968a3",
   "metadata": {},
   "source": [
    "Modify string"
   ]
  },
  {
   "cell_type": "code",
   "execution_count": 316,
   "id": "7b8a2b41-3bde-45af-bb65-8a5e2f55ff9a",
   "metadata": {},
   "outputs": [
    {
     "name": "stdout",
     "output_type": "stream",
     "text": [
      "HELLO, WORLD!\n"
     ]
    }
   ],
   "source": [
    "#The upper() method returns the string in upper case:\n",
    "\n",
    "a = \"Hello, World!\"\n",
    "print(a.upper())"
   ]
  },
  {
   "cell_type": "code",
   "execution_count": 318,
   "id": "d1aad229-5774-493c-8b5a-6ab436198884",
   "metadata": {},
   "outputs": [
    {
     "name": "stdout",
     "output_type": "stream",
     "text": [
      "hello, world!\n"
     ]
    }
   ],
   "source": [
    "#The lower() method returns the string in lower case:\n",
    "\n",
    "a = \"Hello, World!\"\n",
    "print(a.lower())"
   ]
  },
  {
   "cell_type": "code",
   "execution_count": 320,
   "id": "b3d75d29-f337-4718-9086-9bf376a802c3",
   "metadata": {},
   "outputs": [
    {
     "name": "stdout",
     "output_type": "stream",
     "text": [
      "Hello, World!\n"
     ]
    }
   ],
   "source": [
    "#The strip() method removes any whitespace from the beginning or the end:\n",
    "\n",
    "a = \" Hello, World! \"\n",
    "print(a.strip()) # returns \"Hello, World!\""
   ]
  },
  {
   "cell_type": "code",
   "execution_count": 322,
   "id": "6794b13a-4938-4d1f-a2a5-27e27322c5ce",
   "metadata": {},
   "outputs": [
    {
     "name": "stdout",
     "output_type": "stream",
     "text": [
      "Jello, World!\n"
     ]
    }
   ],
   "source": [
    "#The replace() method replaces a string with another string:\n",
    "\n",
    "a = \"Hello, World!\"\n",
    "print(a.replace(\"H\", \"J\"))"
   ]
  },
  {
   "cell_type": "code",
   "execution_count": 324,
   "id": "c29c3d8a-f7dc-4b02-ac06-b4c45af3cdcc",
   "metadata": {},
   "outputs": [
    {
     "name": "stdout",
     "output_type": "stream",
     "text": [
      "['Hello', ' World!']\n"
     ]
    }
   ],
   "source": [
    "#The split() method splits the string into substrings if it finds instances of the separator:\n",
    "\n",
    "a = \"Hello, World!\"\n",
    "print(a.split(\",\")) # returns ['Hello', ' World!']"
   ]
  },
  {
   "cell_type": "markdown",
   "id": "23a1a177-a2a5-499d-9a9c-549a8d45a54d",
   "metadata": {},
   "source": [
    "What is a correct syntax to print a string in upper case letters?\n",
    "\n"
   ]
  },
  {
   "cell_type": "code",
   "execution_count": 329,
   "id": "c1d8a7bf-904a-4d9f-98c5-1cf1c79f422b",
   "metadata": {},
   "outputs": [
    {
     "data": {
      "text/plain": [
       "'WELCOME'"
      ]
     },
     "execution_count": 329,
     "metadata": {},
     "output_type": "execute_result"
    }
   ],
   "source": [
    "'Welcome'.upper()"
   ]
  },
  {
   "cell_type": "markdown",
   "id": "b22f978f-83c9-4fba-a078-6fa6cbc8e55c",
   "metadata": {},
   "source": [
    "Return the string without any whitespace at the beginning or the end."
   ]
  },
  {
   "cell_type": "code",
   "execution_count": 332,
   "id": "00bfd31d-b320-4ae2-8d4b-be87a4f682fa",
   "metadata": {},
   "outputs": [],
   "source": [
    "txt = \" Hello World \"\n",
    "x = txt.strip()\n"
   ]
  },
  {
   "cell_type": "markdown",
   "id": "173f37c4-1142-4181-8033-b38966dc6177",
   "metadata": {},
   "source": [
    "Convert the value of txt to upper case."
   ]
  },
  {
   "cell_type": "code",
   "execution_count": 335,
   "id": "e6edda68-0026-4b0d-b286-e9ccb146121d",
   "metadata": {},
   "outputs": [],
   "source": [
    "txt = \"Hello World\"\n",
    "txt =txt.upper()"
   ]
  },
  {
   "cell_type": "markdown",
   "id": "b77841eb-3a45-48c8-98b0-3db43adda9fd",
   "metadata": {},
   "source": [
    "Convert the value of txt to lower case."
   ]
  },
  {
   "cell_type": "code",
   "execution_count": 338,
   "id": "47ee2e16-eff7-451b-b27b-04d125b97775",
   "metadata": {},
   "outputs": [],
   "source": [
    "txt = \"Hello World\"\n",
    "txt =txt.lower()"
   ]
  },
  {
   "cell_type": "markdown",
   "id": "e3f0ad81-b4b8-47ad-b059-c8ca225a4ec8",
   "metadata": {},
   "source": [
    "Replace the character H with a J."
   ]
  },
  {
   "cell_type": "code",
   "execution_count": 341,
   "id": "11133d28-2403-4ff5-b4ea-cb99a15147b6",
   "metadata": {},
   "outputs": [],
   "source": [
    "txt = \"Hello World\"\n",
    "txt = txt.replace('H','J')"
   ]
  },
  {
   "cell_type": "markdown",
   "id": "1a667c1c-11a8-46bc-b630-711bb962b91a",
   "metadata": {},
   "source": [
    "String Concatenation"
   ]
  },
  {
   "cell_type": "code",
   "execution_count": 344,
   "id": "7057fe51-8d9f-44b1-95ae-4c7b3102b2bc",
   "metadata": {},
   "outputs": [
    {
     "name": "stdout",
     "output_type": "stream",
     "text": [
      "HelloWorld\n"
     ]
    }
   ],
   "source": [
    "#Merge variable a with variable b into variable c:\n",
    "\n",
    "a = \"Hello\"\n",
    "b = \"World\"\n",
    "c = a + b\n",
    "print(c)"
   ]
  },
  {
   "cell_type": "code",
   "execution_count": 346,
   "id": "4597d609-f5bc-4f36-b7bd-bae1278614a0",
   "metadata": {},
   "outputs": [
    {
     "name": "stdout",
     "output_type": "stream",
     "text": [
      "Hello World\n"
     ]
    }
   ],
   "source": [
    "#To add a space between them, add a \" \":\n",
    "\n",
    "a = \"Hello\"\n",
    "b = \"World\"\n",
    "c = a + \" \" + b\n",
    "print(c)"
   ]
  },
  {
   "cell_type": "markdown",
   "id": "7a1858e1-16a1-4338-8a3d-9ea60f5f375f",
   "metadata": {},
   "source": [
    "What is a correct syntax to merge variable x and y into variable z?"
   ]
  },
  {
   "cell_type": "markdown",
   "id": "f3a4b149-c1be-4ba1-ac47-18bf5b41cdcf",
   "metadata": {},
   "source": [
    "z=x+y"
   ]
  },
  {
   "cell_type": "markdown",
   "id": "20d8e58d-4601-461e-a1d7-0bc24ef6f6d3",
   "metadata": {},
   "source": [
    "What will be the result of the following code:\n",
    "x = 'Welcome'\n",
    "y = 'Coders'\n",
    "print(x + y)"
   ]
  },
  {
   "cell_type": "markdown",
   "id": "513acdef-bfea-4fe0-8da3-d7473dd16402",
   "metadata": {},
   "source": [
    "WelcomeCoders"
   ]
  },
  {
   "cell_type": "markdown",
   "id": "13961da2-154c-4520-8597-ba3f1dc111d8",
   "metadata": {},
   "source": [
    "Consider this code:\n",
    "a = 'Join'\n",
    "b = 'the'\n",
    "c = 'party'\n",
    "What is a correct syntax to print 'Join the party'?\n",
    "\n",
    "print(a + b + c)"
   ]
  },
  {
   "cell_type": "markdown",
   "id": "a01f7dd7-7f28-4af4-b218-579d8c5434bc",
   "metadata": {},
   "source": [
    "print(a + ' ' + b + ' ' + c)"
   ]
  },
  {
   "cell_type": "markdown",
   "id": "34f640ad-27d9-4a49-971b-9d7493e221ab",
   "metadata": {},
   "source": [
    "String Format"
   ]
  },
  {
   "cell_type": "code",
   "execution_count": 357,
   "id": "61c0196a-cdb1-4046-941d-cefab14c2989",
   "metadata": {},
   "outputs": [
    {
     "ename": "TypeError",
     "evalue": "can only concatenate str (not \"int\") to str",
     "output_type": "error",
     "traceback": [
      "\u001b[1;31m---------------------------------------------------------------------------\u001b[0m",
      "\u001b[1;31mTypeError\u001b[0m                                 Traceback (most recent call last)",
      "Cell \u001b[1;32mIn[357], line 2\u001b[0m\n\u001b[0;32m      1\u001b[0m age \u001b[38;5;241m=\u001b[39m \u001b[38;5;241m36\u001b[39m\n\u001b[1;32m----> 2\u001b[0m txt \u001b[38;5;241m=\u001b[39m \u001b[38;5;124m\"\u001b[39m\u001b[38;5;124mMy name is John, I am \u001b[39m\u001b[38;5;124m\"\u001b[39m \u001b[38;5;241m+\u001b[39m age\n\u001b[0;32m      3\u001b[0m \u001b[38;5;28mprint\u001b[39m(txt)\n",
      "\u001b[1;31mTypeError\u001b[0m: can only concatenate str (not \"int\") to str"
     ]
    }
   ],
   "source": [
    "age = 36\n",
    "txt = \"My name is John, I am \" + age\n",
    "print(txt)"
   ]
  },
  {
   "cell_type": "code",
   "execution_count": 359,
   "id": "80a8792b-f1f8-40e7-9b69-dcc705edec00",
   "metadata": {},
   "outputs": [
    {
     "name": "stdout",
     "output_type": "stream",
     "text": [
      "My name is John, I am 36\n"
     ]
    }
   ],
   "source": [
    "#Create an f-string:\n",
    "\n",
    "age = 36\n",
    "txt = f\"My name is John, I am {age}\"\n",
    "print(txt)"
   ]
  },
  {
   "cell_type": "code",
   "execution_count": 361,
   "id": "2cb6e232-fe63-429a-b3f4-10d37e42e6e4",
   "metadata": {},
   "outputs": [
    {
     "name": "stdout",
     "output_type": "stream",
     "text": [
      "The price is 59 dollars\n"
     ]
    }
   ],
   "source": [
    "#Add a placeholder for the price variable:\n",
    "\n",
    "price = 59\n",
    "txt = f\"The price is {price} dollars\"\n",
    "print(txt)"
   ]
  },
  {
   "cell_type": "code",
   "execution_count": 363,
   "id": "b46da98f-c102-485b-9345-60e23650b215",
   "metadata": {},
   "outputs": [
    {
     "name": "stdout",
     "output_type": "stream",
     "text": [
      "The price is 59.00 dollars\n"
     ]
    }
   ],
   "source": [
    "#Display the price with 2 decimals:\n",
    "\n",
    "price = 59\n",
    "txt = f\"The price is {price:.2f} dollars\"\n",
    "print(txt)"
   ]
  },
  {
   "cell_type": "code",
   "execution_count": 365,
   "id": "20e4103f-d2c6-4cc7-a6f4-fef72769681e",
   "metadata": {},
   "outputs": [
    {
     "name": "stdout",
     "output_type": "stream",
     "text": [
      "The price is 1180 dollars\n"
     ]
    }
   ],
   "source": [
    "txt = f\"The price is {20 * 59} dollars\"\n",
    "print(txt)\n"
   ]
  },
  {
   "cell_type": "markdown",
   "id": "13c4f1d3-233a-481d-972e-893cfaa7bad1",
   "metadata": {},
   "source": [
    "If x = 9, what is a correct syntax to print 'The price is 9.00 dollars'?"
   ]
  },
  {
   "cell_type": "code",
   "execution_count": 368,
   "id": "6616c2ab-4321-4809-afa0-1ce62ce12995",
   "metadata": {},
   "outputs": [
    {
     "name": "stdout",
     "output_type": "stream",
     "text": [
      "The price is 9.00 dollars\n"
     ]
    }
   ],
   "source": [
    "x=9\n",
    "print(f\"The price is {x:.2f} dollars\")"
   ]
  },
  {
   "cell_type": "markdown",
   "id": "b19f74b6-5ddb-47b8-afc6-7089f278462d",
   "metadata": {},
   "source": [
    "Insert the correct syntax to add a placeholder for the age parameter."
   ]
  },
  {
   "cell_type": "code",
   "execution_count": 371,
   "id": "4d44b9b6-65d2-46fd-910f-bc15253d5e77",
   "metadata": {},
   "outputs": [
    {
     "name": "stdout",
     "output_type": "stream",
     "text": [
      "My name is John, and I am 36\n"
     ]
    }
   ],
   "source": [
    "age = 36\n",
    "txt = f\"My name is John, and I am {age}\"\n",
    "print(txt)"
   ]
  },
  {
   "cell_type": "markdown",
   "id": "55b9b61b-7fd6-4370-b344-9f1c881dc5f9",
   "metadata": {},
   "source": [
    "What will be the result of the following code:\n",
    "print(f'The price is {2 + 3} dollars')"
   ]
  },
  {
   "cell_type": "markdown",
   "id": "68ef14de-a922-4100-9f53-2b598e3b1ef1",
   "metadata": {},
   "source": [
    "The price is 5 dollars"
   ]
  },
  {
   "cell_type": "markdown",
   "id": "afbbac05-c2f6-47c8-803b-a7fd28b90b2a",
   "metadata": {},
   "source": [
    "Escape characters"
   ]
  },
  {
   "cell_type": "code",
   "execution_count": 376,
   "id": "04e4d83a-726a-44c3-91e8-ea351dfedca4",
   "metadata": {},
   "outputs": [
    {
     "ename": "SyntaxError",
     "evalue": "invalid syntax (4106093343.py, line 1)",
     "output_type": "error",
     "traceback": [
      "\u001b[1;36m  Cell \u001b[1;32mIn[376], line 1\u001b[1;36m\u001b[0m\n\u001b[1;33m    txt = \"We are the so-called \"Vikings\" from the north.\"\u001b[0m\n\u001b[1;37m                                 ^\u001b[0m\n\u001b[1;31mSyntaxError\u001b[0m\u001b[1;31m:\u001b[0m invalid syntax\n"
     ]
    }
   ],
   "source": [
    "txt = \"We are the so-called \"Vikings\" from the north.\"\n"
   ]
  },
  {
   "cell_type": "code",
   "execution_count": 380,
   "id": "36c71fa0-9cbc-404b-91a8-87c3fb5bda16",
   "metadata": {},
   "outputs": [
    {
     "name": "stdout",
     "output_type": "stream",
     "text": [
      "We are the so-called \"Vikings\" from the north.\n"
     ]
    }
   ],
   "source": [
    "#The escape character allows you to use double quotes when you normally would not be allowed:\n",
    "\n",
    "txt = \"We are the so-called \\\"Vikings\\\" from the north.\"\n",
    "print(txt)"
   ]
  },
  {
   "cell_type": "code",
   "execution_count": 382,
   "id": "68a71f48-d871-4138-8685-915530363388",
   "metadata": {},
   "outputs": [
    {
     "name": "stdout",
     "output_type": "stream",
     "text": [
      "We are the so-called 'Vikings' from the north.\n"
     ]
    }
   ],
   "source": [
    "txt = \"We are the so-called \\'Vikings\\' from the north.\"\n",
    "print(txt)"
   ]
  },
  {
   "cell_type": "code",
   "execution_count": 384,
   "id": "d7f87633-db16-42e8-bf94-67aeb9410ebb",
   "metadata": {},
   "outputs": [
    {
     "name": "stdout",
     "output_type": "stream",
     "text": [
      "We are the so-called \\Vikings\\ from the north.\n"
     ]
    }
   ],
   "source": [
    "txt = \"We are the so-called \\\\Vikings\\\\ from the north.\"\n",
    "print(txt)"
   ]
  },
  {
   "cell_type": "code",
   "execution_count": 386,
   "id": "f0c98716-f92a-4c1f-8ee3-4bc172b48832",
   "metadata": {},
   "outputs": [
    {
     "name": "stdout",
     "output_type": "stream",
     "text": [
      "We are the so-called \n",
      "Vikings from the north.\n"
     ]
    }
   ],
   "source": [
    "txt = \"We are the so-called \\nVikings from the north.\"\n",
    "print(txt)"
   ]
  },
  {
   "cell_type": "code",
   "execution_count": 388,
   "id": "641be17a-c71e-4538-bebd-c1397f95ee29",
   "metadata": {},
   "outputs": [
    {
     "name": "stdout",
     "output_type": "stream",
     "text": [
      "We are the so-called \tVikings from the north.\n"
     ]
    }
   ],
   "source": [
    "txt = \"We are the so-called \\tVikings from the north.\"\n",
    "print(txt)"
   ]
  },
  {
   "cell_type": "code",
   "execution_count": 390,
   "id": "b3af314d-8f89-427c-805a-d889ba7ff353",
   "metadata": {},
   "outputs": [
    {
     "name": "stdout",
     "output_type": "stream",
     "text": [
      "We are the so-calledVikings from the north.\n"
     ]
    }
   ],
   "source": [
    "txt = \"We are the so-called \\bVikings from the north.\"\n",
    "print(txt)"
   ]
  },
  {
   "cell_type": "code",
   "execution_count": 392,
   "id": "6f63f84b-8154-41d7-ae63-1c845e8fd1ab",
   "metadata": {},
   "outputs": [
    {
     "name": "stdout",
     "output_type": "stream",
     "text": [
      "We are the so-called \f",
      "Vikings from the north.\n"
     ]
    }
   ],
   "source": [
    "txt = \"We are the so-called \\fVikings from the north.\"\n",
    "print(txt)"
   ]
  },
  {
   "cell_type": "markdown",
   "id": "6a071b9a-ecb3-4cc5-9846-914194df656d",
   "metadata": {},
   "source": [
    "String Methods"
   ]
  },
  {
   "cell_type": "code",
   "execution_count": 395,
   "id": "a394377c-3fd4-44b5-b673-88b3d7f68f82",
   "metadata": {},
   "outputs": [
    {
     "name": "stdout",
     "output_type": "stream",
     "text": [
      "Hello, and welcome to my world.\n"
     ]
    }
   ],
   "source": [
    "txt = \"hello, and welcome to my world.\"\n",
    "\n",
    "x = txt.capitalize()\n",
    "\n",
    "print (x)"
   ]
  },
  {
   "cell_type": "code",
   "execution_count": 397,
   "id": "08a9d7d6-1242-4e67-adb7-dc0313e8825e",
   "metadata": {},
   "outputs": [
    {
     "name": "stdout",
     "output_type": "stream",
     "text": [
      "hello, and welcome to my world!\n"
     ]
    }
   ],
   "source": [
    "txt = \"Hello, And Welcome To My World!\"\n",
    "\n",
    "x = txt.casefold()\n",
    "\n",
    "print(x)"
   ]
  },
  {
   "cell_type": "code",
   "execution_count": 399,
   "id": "535bcff5-d7c5-4dab-937f-e05d989f1def",
   "metadata": {},
   "outputs": [
    {
     "name": "stdout",
     "output_type": "stream",
     "text": [
      "       banana       \n"
     ]
    }
   ],
   "source": [
    "txt = \"banana\"\n",
    "\n",
    "x = txt.center(20)\n",
    "\n",
    "print(x)"
   ]
  },
  {
   "cell_type": "code",
   "execution_count": 401,
   "id": "bb413645-f5a8-41a9-bf7a-a8a56e09d466",
   "metadata": {},
   "outputs": [
    {
     "name": "stdout",
     "output_type": "stream",
     "text": [
      "2\n"
     ]
    }
   ],
   "source": [
    "txt = \"I love apples, apple are my favorite fruit\"\n",
    "\n",
    "x = txt.count(\"apple\")\n",
    "\n",
    "print(x)"
   ]
  },
  {
   "cell_type": "code",
   "execution_count": 403,
   "id": "608c7144-b8e6-4543-8555-46a97e0f8a2c",
   "metadata": {},
   "outputs": [
    {
     "name": "stdout",
     "output_type": "stream",
     "text": [
      "b'My name is St\\xc3\\xa5le'\n"
     ]
    }
   ],
   "source": [
    "txt = \"My name is Ståle\"\n",
    "\n",
    "x = txt.encode()\n",
    "\n",
    "print(x)"
   ]
  },
  {
   "cell_type": "code",
   "execution_count": 405,
   "id": "a9d8c29d-a055-4712-a957-f339ea84638e",
   "metadata": {},
   "outputs": [
    {
     "name": "stdout",
     "output_type": "stream",
     "text": [
      "True\n"
     ]
    }
   ],
   "source": [
    "txt = \"Hello, welcome to my world.\"\n",
    "\n",
    "x = txt.endswith(\".\")\n",
    "\n",
    "print(x)"
   ]
  },
  {
   "cell_type": "code",
   "execution_count": 407,
   "id": "d0f98655-9fe0-436b-aa03-1ad117afabdb",
   "metadata": {},
   "outputs": [
    {
     "name": "stdout",
     "output_type": "stream",
     "text": [
      "H e l l o\n"
     ]
    }
   ],
   "source": [
    "txt = \"H\\te\\tl\\tl\\to\"\n",
    "\n",
    "x =  txt.expandtabs(2)\n",
    "\n",
    "print(x)"
   ]
  },
  {
   "cell_type": "code",
   "execution_count": 409,
   "id": "9f674f48-8b38-4b25-9b95-fac70e904f8a",
   "metadata": {},
   "outputs": [
    {
     "name": "stdout",
     "output_type": "stream",
     "text": [
      "7\n"
     ]
    }
   ],
   "source": [
    "txt = \"Hello, welcome to my world.\"\n",
    "\n",
    "x = txt.find(\"welcome\")\n",
    "\n",
    "print(x)"
   ]
  },
  {
   "cell_type": "code",
   "execution_count": 411,
   "id": "7f597e0b-72c3-4a6d-8aae-754a28663358",
   "metadata": {},
   "outputs": [
    {
     "name": "stdout",
     "output_type": "stream",
     "text": [
      "For only 49.00 dollars!\n"
     ]
    }
   ],
   "source": [
    "txt = \"For only {price:.2f} dollars!\"\n",
    "print(txt.format(price = 49))"
   ]
  },
  {
   "cell_type": "code",
   "execution_count": 413,
   "id": "38043415-d7a2-41a8-9d3f-e7570142bd30",
   "metadata": {},
   "outputs": [
    {
     "name": "stdout",
     "output_type": "stream",
     "text": [
      "7\n"
     ]
    }
   ],
   "source": [
    "txt = \"Hello, welcome to my world.\"\n",
    "\n",
    "x = txt.index(\"welcome\")\n",
    "\n",
    "print(x)"
   ]
  },
  {
   "cell_type": "code",
   "execution_count": 415,
   "id": "08e742bf-0d28-4f3a-b576-cdd867e95925",
   "metadata": {},
   "outputs": [
    {
     "name": "stdout",
     "output_type": "stream",
     "text": [
      "True\n"
     ]
    }
   ],
   "source": [
    "txt = \"Company12\"\n",
    "\n",
    "x = txt.isalnum()\n",
    "\n",
    "print(x)"
   ]
  },
  {
   "cell_type": "code",
   "execution_count": 417,
   "id": "831086e4-6716-44ac-9f6e-65fac3aa8208",
   "metadata": {},
   "outputs": [
    {
     "name": "stdout",
     "output_type": "stream",
     "text": [
      "True\n"
     ]
    }
   ],
   "source": [
    "txt = \"CompanyX\"\n",
    "\n",
    "x = txt.isalpha()\n",
    "\n",
    "print(x)"
   ]
  },
  {
   "cell_type": "code",
   "execution_count": 419,
   "id": "4132c1d6-7cc2-4498-bf37-25a4f3122251",
   "metadata": {},
   "outputs": [
    {
     "name": "stdout",
     "output_type": "stream",
     "text": [
      "True\n"
     ]
    }
   ],
   "source": [
    "txt = \"Company123\"\n",
    "\n",
    "x = txt.isascii()\n",
    "\n",
    "print(x)"
   ]
  },
  {
   "cell_type": "code",
   "execution_count": 421,
   "id": "3680e27b-a245-4c1c-8c6d-92d252b43c86",
   "metadata": {},
   "outputs": [
    {
     "name": "stdout",
     "output_type": "stream",
     "text": [
      "True\n"
     ]
    }
   ],
   "source": [
    "txt = \"1234\"\n",
    "\n",
    "x = txt.isdecimal()\n",
    "\n",
    "print(x)"
   ]
  },
  {
   "cell_type": "code",
   "execution_count": 423,
   "id": "50b7b66b-5a8b-4ba8-95b2-5253b686c594",
   "metadata": {},
   "outputs": [
    {
     "name": "stdout",
     "output_type": "stream",
     "text": [
      "True\n"
     ]
    }
   ],
   "source": [
    "txt = \"50800\"\n",
    "\n",
    "x = txt.isdigit()\n",
    "\n",
    "print(x)"
   ]
  },
  {
   "cell_type": "code",
   "execution_count": 425,
   "id": "86d13bd5-b9f3-4602-9e6f-41cfd1cd8828",
   "metadata": {},
   "outputs": [
    {
     "name": "stdout",
     "output_type": "stream",
     "text": [
      "True\n"
     ]
    }
   ],
   "source": [
    "txt = \"Demo\"\n",
    "\n",
    "x = txt.isidentifier()\n",
    "\n",
    "print(x)"
   ]
  },
  {
   "cell_type": "code",
   "execution_count": 427,
   "id": "97b2a18a-4f4d-42b0-b5dc-c94fe41f2871",
   "metadata": {},
   "outputs": [
    {
     "name": "stdout",
     "output_type": "stream",
     "text": [
      "True\n"
     ]
    }
   ],
   "source": [
    "txt = \"hello world!\"\n",
    "\n",
    "x = txt.islower()\n",
    "\n",
    "print(x)"
   ]
  },
  {
   "cell_type": "code",
   "execution_count": 429,
   "id": "9b9783bf-7e89-4541-af64-209ebc191db6",
   "metadata": {},
   "outputs": [
    {
     "name": "stdout",
     "output_type": "stream",
     "text": [
      "True\n"
     ]
    }
   ],
   "source": [
    "txt = \"565543\"\n",
    "\n",
    "x = txt.isnumeric()\n",
    "\n",
    "print(x)"
   ]
  },
  {
   "cell_type": "code",
   "execution_count": 431,
   "id": "97d668fc-b13b-4cde-8b9c-7ec29f095fe6",
   "metadata": {},
   "outputs": [
    {
     "name": "stdout",
     "output_type": "stream",
     "text": [
      "True\n"
     ]
    }
   ],
   "source": [
    "txt = \"Hello! Are you #1?\"\n",
    "\n",
    "x = txt.isprintable()\n",
    "\n",
    "print(x)"
   ]
  },
  {
   "cell_type": "code",
   "execution_count": 433,
   "id": "160abedb-58de-4c22-87da-af527c02c365",
   "metadata": {},
   "outputs": [
    {
     "name": "stdout",
     "output_type": "stream",
     "text": [
      "True\n"
     ]
    }
   ],
   "source": [
    "txt = \"   \"\n",
    "\n",
    "x = txt.isspace()\n",
    "\n",
    "print(x)"
   ]
  },
  {
   "cell_type": "code",
   "execution_count": 435,
   "id": "d50eb94a-8844-485c-bc2e-f06610ed9644",
   "metadata": {},
   "outputs": [
    {
     "name": "stdout",
     "output_type": "stream",
     "text": [
      "True\n"
     ]
    }
   ],
   "source": [
    "txt = \"Hello, And Welcome To My World!\"\n",
    "\n",
    "x = txt.istitle()\n",
    "\n",
    "print(x)"
   ]
  },
  {
   "cell_type": "code",
   "execution_count": 437,
   "id": "1e094bd3-ede0-4c98-9dd1-6bcc6c7c95a8",
   "metadata": {},
   "outputs": [
    {
     "name": "stdout",
     "output_type": "stream",
     "text": [
      "True\n"
     ]
    }
   ],
   "source": [
    "txt = \"THIS IS NOW!\"\n",
    "\n",
    "x = txt.isupper()\n",
    "\n",
    "print(x)"
   ]
  },
  {
   "cell_type": "code",
   "execution_count": 439,
   "id": "232b9730-1b72-46f2-a346-f92df3569ebb",
   "metadata": {},
   "outputs": [
    {
     "name": "stdout",
     "output_type": "stream",
     "text": [
      "John#Peter#Vicky\n"
     ]
    }
   ],
   "source": [
    "myTuple = (\"John\", \"Peter\", \"Vicky\")\n",
    "\n",
    "x = \"#\".join(myTuple)\n",
    "\n",
    "print(x)"
   ]
  },
  {
   "cell_type": "code",
   "execution_count": 441,
   "id": "0b16f798-814e-4854-8596-088ee929ce55",
   "metadata": {},
   "outputs": [
    {
     "name": "stdout",
     "output_type": "stream",
     "text": [
      "banana               is my favorite fruit.\n"
     ]
    }
   ],
   "source": [
    "txt = \"banana\"\n",
    "\n",
    "x = txt.ljust(20)\n",
    "\n",
    "print(x, \"is my favorite fruit.\")"
   ]
  },
  {
   "cell_type": "code",
   "execution_count": 443,
   "id": "1e3e700a-8799-44ff-aa2b-9bf5330be7cd",
   "metadata": {},
   "outputs": [
    {
     "name": "stdout",
     "output_type": "stream",
     "text": [
      "hello my friends\n"
     ]
    }
   ],
   "source": [
    "txt = \"Hello my FRIENDS\"\n",
    "\n",
    "x = txt.lower()\n",
    "\n",
    "print(x)"
   ]
  },
  {
   "cell_type": "code",
   "execution_count": 445,
   "id": "f22db613-b352-4b6c-988a-a4a24664351e",
   "metadata": {},
   "outputs": [
    {
     "name": "stdout",
     "output_type": "stream",
     "text": [
      "of all fruits banana      is my favorite\n"
     ]
    }
   ],
   "source": [
    "txt = \"     banana     \"\n",
    "\n",
    "x = txt.lstrip()\n",
    "\n",
    "print(\"of all fruits\", x, \"is my favorite\")"
   ]
  },
  {
   "cell_type": "code",
   "execution_count": 447,
   "id": "cfeb9fa9-80dd-4252-b779-28fa8a4e73d1",
   "metadata": {},
   "outputs": [
    {
     "name": "stdout",
     "output_type": "stream",
     "text": [
      "Hello Pam!\n"
     ]
    }
   ],
   "source": [
    "txt = \"Hello Sam!\"\n",
    "mytable = str.maketrans(\"S\", \"P\")\n",
    "print(txt.translate(mytable))"
   ]
  },
  {
   "cell_type": "code",
   "execution_count": 449,
   "id": "4e496e3b-1d47-47e8-90c6-8d3e75a17dab",
   "metadata": {},
   "outputs": [
    {
     "name": "stdout",
     "output_type": "stream",
     "text": [
      "('I could eat ', 'bananas', ' all day')\n"
     ]
    }
   ],
   "source": [
    "txt = \"I could eat bananas all day\"\n",
    "\n",
    "x = txt.partition(\"bananas\")\n",
    "\n",
    "print(x)"
   ]
  },
  {
   "cell_type": "code",
   "execution_count": 451,
   "id": "0082b8fb-c45c-4475-b927-64c0e930f18b",
   "metadata": {},
   "outputs": [
    {
     "name": "stdout",
     "output_type": "stream",
     "text": [
      "I like apples\n"
     ]
    }
   ],
   "source": [
    "txt = \"I like bananas\"\n",
    "\n",
    "x = txt.replace(\"bananas\", \"apples\")\n",
    "\n",
    "print(x)"
   ]
  },
  {
   "cell_type": "code",
   "execution_count": 453,
   "id": "a14f1739-0367-46e0-b394-99f4dae2b005",
   "metadata": {},
   "outputs": [
    {
     "name": "stdout",
     "output_type": "stream",
     "text": [
      "12\n"
     ]
    }
   ],
   "source": [
    "txt = \"Mi casa, su casa.\"\n",
    "\n",
    "x = txt.rfind(\"casa\")\n",
    "\n",
    "print(x)"
   ]
  },
  {
   "cell_type": "code",
   "execution_count": 455,
   "id": "96fc7c0c-2a0e-4cd5-937a-ee8121991176",
   "metadata": {},
   "outputs": [
    {
     "name": "stdout",
     "output_type": "stream",
     "text": [
      "12\n"
     ]
    }
   ],
   "source": [
    "txt = \"Mi casa, su casa.\"\n",
    "\n",
    "x = txt.rindex(\"casa\")\n",
    "\n",
    "print(x)"
   ]
  },
  {
   "cell_type": "code",
   "execution_count": 459,
   "id": "72bb5d5b-d381-4f71-8e1d-4784d15f15b9",
   "metadata": {},
   "outputs": [
    {
     "name": "stdout",
     "output_type": "stream",
     "text": [
      "              banana is my favorite fruit.\n"
     ]
    }
   ],
   "source": [
    "#Return a 20 characters long, right justified version of the word \"banana\":\n",
    "\n",
    "txt = \"banana\"\n",
    "\n",
    "x = txt.rjust(20)\n",
    "\n",
    "print(x, \"is my favorite fruit.\")"
   ]
  },
  {
   "cell_type": "code",
   "execution_count": 461,
   "id": "213785f0-48d4-493c-8fcd-9cbd9ff55496",
   "metadata": {},
   "outputs": [
    {
     "name": "stdout",
     "output_type": "stream",
     "text": [
      "('I could eat bananas all day, ', 'bananas', ' are my favorite fruit')\n"
     ]
    }
   ],
   "source": [
    "txt = \"I could eat bananas all day, bananas are my favorite fruit\"\n",
    "\n",
    "x = txt.rpartition(\"bananas\")\n",
    "\n",
    "print(x)"
   ]
  },
  {
   "cell_type": "code",
   "execution_count": 463,
   "id": "f2a39d77-82d3-4439-9868-12ff5f2830df",
   "metadata": {},
   "outputs": [
    {
     "name": "stdout",
     "output_type": "stream",
     "text": [
      "['apple', 'banana', 'cherry']\n"
     ]
    }
   ],
   "source": [
    "txt = \"apple, banana, cherry\"\n",
    "\n",
    "x = txt.rsplit(\", \")\n",
    "\n",
    "print(x)"
   ]
  },
  {
   "cell_type": "code",
   "execution_count": 465,
   "id": "3071044e-94a6-4362-9064-c08b2c1594e1",
   "metadata": {},
   "outputs": [
    {
     "name": "stdout",
     "output_type": "stream",
     "text": [
      "of all fruits      banana is my favorite\n"
     ]
    }
   ],
   "source": [
    "txt = \"     banana     \"\n",
    "\n",
    "x = txt.rstrip()\n",
    "\n",
    "print(\"of all fruits\", x, \"is my favorite\")"
   ]
  },
  {
   "cell_type": "code",
   "execution_count": 467,
   "id": "dd12a469-e7af-4b11-95cc-e3282b1001d4",
   "metadata": {},
   "outputs": [
    {
     "name": "stdout",
     "output_type": "stream",
     "text": [
      "['welcome', 'to', 'the', 'jungle']\n"
     ]
    }
   ],
   "source": [
    "txt = \"welcome to the jungle\"\n",
    "\n",
    "x = txt.split()\n",
    "\n",
    "print(x)"
   ]
  },
  {
   "cell_type": "code",
   "execution_count": 469,
   "id": "adab5a0e-5213-435e-9564-2f9f9d8a3580",
   "metadata": {},
   "outputs": [
    {
     "name": "stdout",
     "output_type": "stream",
     "text": [
      "['Thank you for the music', 'Welcome to the jungle']\n"
     ]
    }
   ],
   "source": [
    "txt = \"Thank you for the music\\nWelcome to the jungle\"\n",
    "\n",
    "x = txt.splitlines()\n",
    "\n",
    "print(x)\n"
   ]
  },
  {
   "cell_type": "code",
   "execution_count": 471,
   "id": "e80a7825-c222-42b7-8a16-a1034dea3a24",
   "metadata": {},
   "outputs": [
    {
     "name": "stdout",
     "output_type": "stream",
     "text": [
      "True\n"
     ]
    }
   ],
   "source": [
    "txt = \"Hello, welcome to my world.\"\n",
    "\n",
    "x = txt.startswith(\"Hello\")\n",
    "\n",
    "print(x)"
   ]
  },
  {
   "cell_type": "code",
   "execution_count": 473,
   "id": "237d7903-09ab-49f5-89e1-61ac2587badd",
   "metadata": {},
   "outputs": [
    {
     "name": "stdout",
     "output_type": "stream",
     "text": [
      "of all fruits banana is my favorite\n"
     ]
    }
   ],
   "source": [
    "txt = \"     banana     \"\n",
    "\n",
    "x = txt.strip()\n",
    "\n",
    "print(\"of all fruits\", x, \"is my favorite\")\n"
   ]
  },
  {
   "cell_type": "code",
   "execution_count": 475,
   "id": "b71027b9-d622-4803-9486-b4b6bcda0712",
   "metadata": {},
   "outputs": [
    {
     "name": "stdout",
     "output_type": "stream",
     "text": [
      "hELLO mY nAME iS peter\n"
     ]
    }
   ],
   "source": [
    "txt = \"Hello My Name Is PETER\"\n",
    "\n",
    "x = txt.swapcase()\n",
    "\n",
    "print(x)"
   ]
  },
  {
   "cell_type": "code",
   "execution_count": 477,
   "id": "c802ba6d-31cf-49ec-a80a-5b1cdb276378",
   "metadata": {},
   "outputs": [
    {
     "name": "stdout",
     "output_type": "stream",
     "text": [
      "Welcome To My World\n"
     ]
    }
   ],
   "source": [
    "txt = \"Welcome to my world\"\n",
    "\n",
    "x = txt.title()\n",
    "\n",
    "print(x)"
   ]
  },
  {
   "cell_type": "code",
   "execution_count": 479,
   "id": "7e211759-3340-4773-a4c8-5d90bd2d6a7d",
   "metadata": {},
   "outputs": [
    {
     "name": "stdout",
     "output_type": "stream",
     "text": [
      "Hello Pam!\n"
     ]
    }
   ],
   "source": [
    "mydict = {83:  80}\n",
    "txt = \"Hello Sam!\"\n",
    "print(txt.translate(mydict))"
   ]
  },
  {
   "cell_type": "code",
   "execution_count": 481,
   "id": "e3450553-2196-41dd-9914-d4bae06c2ba9",
   "metadata": {},
   "outputs": [
    {
     "name": "stdout",
     "output_type": "stream",
     "text": [
      "HELLO MY FRIENDS\n"
     ]
    }
   ],
   "source": [
    "txt = \"Hello my friends\"\n",
    "\n",
    "x = txt.upper()\n",
    "\n",
    "print(x)"
   ]
  },
  {
   "cell_type": "code",
   "execution_count": 483,
   "id": "30c339ca-45a6-4d2c-b3f3-f1e11b52d982",
   "metadata": {},
   "outputs": [
    {
     "name": "stdout",
     "output_type": "stream",
     "text": [
      "0000000050\n"
     ]
    }
   ],
   "source": [
    "txt = \"50\"\n",
    "\n",
    "x = txt.zfill(10)\n",
    "\n",
    "print(x)"
   ]
  },
  {
   "cell_type": "code",
   "execution_count": null,
   "id": "60913295-8153-4c3b-9681-7e4785dc8e89",
   "metadata": {},
   "outputs": [],
   "source": []
  }
 ],
 "metadata": {
  "kernelspec": {
   "display_name": "Python [conda env:base] *",
   "language": "python",
   "name": "conda-base-py"
  },
  "language_info": {
   "codemirror_mode": {
    "name": "ipython",
    "version": 3
   },
   "file_extension": ".py",
   "mimetype": "text/x-python",
   "name": "python",
   "nbconvert_exporter": "python",
   "pygments_lexer": "ipython3",
   "version": "3.12.7"
  }
 },
 "nbformat": 4,
 "nbformat_minor": 5
}
