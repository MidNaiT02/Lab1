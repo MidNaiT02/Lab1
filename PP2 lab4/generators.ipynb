{
 "cells": [
  {
   "cell_type": "code",
   "execution_count": 2,
   "id": "f586fad0-a9ee-4bde-ba0b-c91523bc875b",
   "metadata": {},
   "outputs": [
    {
     "name": "stdout",
     "output_type": "stream",
     "text": [
      "0 1 4 9 16 25 36 49 64 81 100 "
     ]
    }
   ],
   "source": [
    "def generate_squares(N):\n",
    "    for i in range(N + 1):\n",
    "        yield i ** 2\n",
    "\n",
    "# Example usage\n",
    "N = 10\n",
    "for square in generate_squares(N):\n",
    "    print(square, end=\" \")\n"
   ]
  },
  {
   "cell_type": "code",
   "execution_count": 4,
   "id": "0e7ba542-6737-4c4e-94e0-90cd61ab3be7",
   "metadata": {},
   "outputs": [
    {
     "name": "stdin",
     "output_type": "stream",
     "text": [
      "Enter a number:  45\n"
     ]
    },
    {
     "name": "stdout",
     "output_type": "stream",
     "text": [
      "0,2,4,6,8,10,12,14,16,18,20,22,24,26,28,30,32,34,36,38,40,42,44\n"
     ]
    }
   ],
   "source": [
    "def even_numbers(n):\n",
    "    for num in range(0, n + 1, 2):\n",
    "        yield num\n",
    "\n",
    "n = int(input(\"Enter a number: \"))\n",
    "print(\",\".join(map(str, even_numbers(n))))\n"
   ]
  },
  {
   "cell_type": "code",
   "execution_count": 6,
   "id": "299b677b-6675-45aa-ac13-56d3bee3b1ed",
   "metadata": {},
   "outputs": [
    {
     "name": "stdin",
     "output_type": "stream",
     "text": [
      "Enter a number:  58\n"
     ]
    },
    {
     "name": "stdout",
     "output_type": "stream",
     "text": [
      "[0, 12, 24, 36, 48]\n"
     ]
    }
   ],
   "source": [
    "def divisible_by_3_and_4(n):\n",
    "    for num in range(n + 1):\n",
    "        if num % 3 == 0 and num % 4 == 0:\n",
    "            yield num\n",
    "\n",
    "n = int(input(\"Enter a number: \"))\n",
    "print(list(divisible_by_3_and_4(n)))\n"
   ]
  },
  {
   "cell_type": "code",
   "execution_count": 8,
   "id": "d41c9d0c-9dc0-4168-a96a-ffb5289c7642",
   "metadata": {},
   "outputs": [
    {
     "name": "stdout",
     "output_type": "stream",
     "text": [
      "4\n",
      "9\n",
      "16\n",
      "25\n",
      "36\n"
     ]
    }
   ],
   "source": [
    "def squares(a, b):\n",
    "    for num in range(a, b + 1):\n",
    "        yield num ** 2\n",
    "\n",
    "# Example usage\n",
    "a, b = 2, 6\n",
    "for value in squares(a, b):\n",
    "    print(value)\n"
   ]
  },
  {
   "cell_type": "code",
   "execution_count": null,
   "id": "fa20a653-1753-45c1-9238-ca18eea6de3b",
   "metadata": {},
   "outputs": [],
   "source": []
  }
 ],
 "metadata": {
  "kernelspec": {
   "display_name": "Python [conda env:base] *",
   "language": "python",
   "name": "conda-base-py"
  },
  "language_info": {
   "codemirror_mode": {
    "name": "ipython",
    "version": 3
   },
   "file_extension": ".py",
   "mimetype": "text/x-python",
   "name": "python",
   "nbconvert_exporter": "python",
   "pygments_lexer": "ipython3",
   "version": "3.12.7"
  }
 },
 "nbformat": 4,
 "nbformat_minor": 5
}
