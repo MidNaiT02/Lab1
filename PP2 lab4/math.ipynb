{
 "cells": [
  {
   "cell_type": "code",
   "execution_count": 2,
   "id": "55115464-e95f-40c0-a373-32d4c7ec443e",
   "metadata": {},
   "outputs": [
    {
     "name": "stdin",
     "output_type": "stream",
     "text": [
      "Input degree:  58\n"
     ]
    },
    {
     "name": "stdout",
     "output_type": "stream",
     "text": [
      "Output radian: 1.012291\n"
     ]
    }
   ],
   "source": [
    "import math\n",
    "\n",
    "def degree_to_radian(degree):\n",
    "    return round(degree * (math.pi / 180), 6)\n",
    "\n",
    "degree = float(input(\"Input degree: \"))\n",
    "print(\"Output radian:\", degree_to_radian(degree))\n"
   ]
  },
  {
   "cell_type": "code",
   "execution_count": 4,
   "id": "fd278ed8-fbc7-40ca-8d6f-6cbac21e4ce1",
   "metadata": {},
   "outputs": [
    {
     "name": "stdin",
     "output_type": "stream",
     "text": [
      "Height:  8\n",
      "Base, first value:  15\n",
      "Base, second value:  45\n"
     ]
    },
    {
     "name": "stdout",
     "output_type": "stream",
     "text": [
      "Expected Output: 240.0\n"
     ]
    }
   ],
   "source": [
    "def trapezoid_area(height, base1, base2):\n",
    "    return (1/2) * (base1 + base2) * height\n",
    "\n",
    "height = float(input(\"Height: \"))\n",
    "base1 = float(input(\"Base, first value: \"))\n",
    "base2 = float(input(\"Base, second value: \"))\n",
    "\n",
    "print(\"Expected Output:\", trapezoid_area(height, base1, base2))\n"
   ]
  },
  {
   "cell_type": "code",
   "execution_count": 6,
   "id": "b5c612b7-0349-4359-a624-3354c1e9071a",
   "metadata": {},
   "outputs": [
    {
     "name": "stdin",
     "output_type": "stream",
     "text": [
      "Input number of sides:  54\n",
      "Input the length of a side:  56\n"
     ]
    },
    {
     "name": "stdout",
     "output_type": "stream",
     "text": [
      "The area of the polygon is: 726881.05\n"
     ]
    }
   ],
   "source": [
    "import math\n",
    "\n",
    "def polygon_area(n, side_length):\n",
    "    return round((n * (side_length ** 2)) / (4 * math.tan(math.pi / n)), 2)\n",
    "\n",
    "n = int(input(\"Input number of sides: \"))\n",
    "side_length = float(input(\"Input the length of a side: \"))\n",
    "\n",
    "print(\"The area of the polygon is:\", polygon_area(n, side_length))\n"
   ]
  },
  {
   "cell_type": "code",
   "execution_count": 8,
   "id": "a0c72e73-87a8-4170-a3ac-d7d7f2ad9526",
   "metadata": {},
   "outputs": [
    {
     "name": "stdin",
     "output_type": "stream",
     "text": [
      "Length of base:  5\n",
      "Height of parallelogram:  8\n"
     ]
    },
    {
     "name": "stdout",
     "output_type": "stream",
     "text": [
      "Expected Output: 40.0\n"
     ]
    }
   ],
   "source": [
    "def parallelogram_area(base, height):\n",
    "    return base * height\n",
    "\n",
    "base = float(input(\"Length of base: \"))\n",
    "height = float(input(\"Height of parallelogram: \"))\n",
    "\n",
    "print(\"Expected Output:\", parallelogram_area(base, height))\n"
   ]
  },
  {
   "cell_type": "code",
   "execution_count": null,
   "id": "a6c9c65a-329d-4b5e-8ed6-1d6c6e39e052",
   "metadata": {},
   "outputs": [],
   "source": []
  }
 ],
 "metadata": {
  "kernelspec": {
   "display_name": "Python [conda env:base] *",
   "language": "python",
   "name": "conda-base-py"
  },
  "language_info": {
   "codemirror_mode": {
    "name": "ipython",
    "version": 3
   },
   "file_extension": ".py",
   "mimetype": "text/x-python",
   "name": "python",
   "nbconvert_exporter": "python",
   "pygments_lexer": "ipython3",
   "version": "3.12.7"
  }
 },
 "nbformat": 4,
 "nbformat_minor": 5
}
