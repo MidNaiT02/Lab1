{
 "cells": [
  {
   "cell_type": "code",
   "execution_count": 2,
   "id": "f13a0d85-ac94-4a22-96aa-f1e465d9aea3",
   "metadata": {},
   "outputs": [
    {
     "name": "stdout",
     "output_type": "stream",
     "text": [
      "Current Date: 2025-02-13\n",
      "Date 5 days ago: 2025-02-08\n"
     ]
    }
   ],
   "source": [
    "from datetime import datetime, timedelta\n",
    "\n",
    "current_date = datetime.now()\n",
    "new_date = current_date - timedelta(days=5)\n",
    "\n",
    "print(\"Current Date:\", current_date.strftime(\"%Y-%m-%d\"))\n",
    "print(\"Date 5 days ago:\", new_date.strftime(\"%Y-%m-%d\"))\n"
   ]
  },
  {
   "cell_type": "code",
   "execution_count": 4,
   "id": "c074d9f8-4995-45ed-9b1a-e21b4a36e130",
   "metadata": {},
   "outputs": [
    {
     "name": "stdout",
     "output_type": "stream",
     "text": [
      "Yesterday: 2025-02-12\n",
      "Today: 2025-02-13\n",
      "Tomorrow: 2025-02-14\n"
     ]
    }
   ],
   "source": [
    "from datetime import datetime, timedelta\n",
    "\n",
    "today = datetime.now().date()\n",
    "yesterday = today - timedelta(days=1)\n",
    "tomorrow = today + timedelta(days=1)\n",
    "\n",
    "print(\"Yesterday:\", yesterday)\n",
    "print(\"Today:\", today)\n",
    "print(\"Tomorrow:\", tomorrow)\n"
   ]
  },
  {
   "cell_type": "code",
   "execution_count": 6,
   "id": "20c3863c-7cf5-4a8c-adbe-148e83260a34",
   "metadata": {},
   "outputs": [
    {
     "name": "stdout",
     "output_type": "stream",
     "text": [
      "Original Datetime: 2025-02-13 13:14:58.477699\n",
      "Datetime without microseconds: 2025-02-13 13:14:58\n"
     ]
    }
   ],
   "source": [
    "from datetime import datetime\n",
    "\n",
    "current_datetime = datetime.now()\n",
    "formatted_datetime = current_datetime.replace(microsecond=0)\n",
    "\n",
    "print(\"Original Datetime:\", current_datetime)\n",
    "print(\"Datetime without microseconds:\", formatted_datetime)\n"
   ]
  },
  {
   "cell_type": "code",
   "execution_count": 8,
   "id": "b78549ba-e7aa-461b-afdb-36bdc04efb12",
   "metadata": {},
   "outputs": [
    {
     "name": "stdout",
     "output_type": "stream",
     "text": [
      "Difference in seconds: 271800.0\n"
     ]
    }
   ],
   "source": [
    "from datetime import datetime\n",
    "\n",
    "date1 = datetime(2025, 2, 10, 12, 0, 0)  # Example date\n",
    "date2 = datetime(2025, 2, 13, 15, 30, 0)  # Example date\n",
    "\n",
    "difference = abs((date2 - date1).total_seconds())\n",
    "\n",
    "print(\"Difference in seconds:\", difference)\n"
   ]
  },
  {
   "cell_type": "code",
   "execution_count": null,
   "id": "fb86f01d-c05b-47a3-b79d-950cf2c9197e",
   "metadata": {},
   "outputs": [],
   "source": []
  }
 ],
 "metadata": {
  "kernelspec": {
   "display_name": "Python [conda env:base] *",
   "language": "python",
   "name": "conda-base-py"
  },
  "language_info": {
   "codemirror_mode": {
    "name": "ipython",
    "version": 3
   },
   "file_extension": ".py",
   "mimetype": "text/x-python",
   "name": "python",
   "nbconvert_exporter": "python",
   "pygments_lexer": "ipython3",
   "version": "3.12.7"
  }
 },
 "nbformat": 4,
 "nbformat_minor": 5
}
