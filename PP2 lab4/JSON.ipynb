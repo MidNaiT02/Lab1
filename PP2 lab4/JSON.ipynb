{
 "cells": [
  {
   "cell_type": "code",
   "execution_count": 4,
   "id": "1c3b4431-45d0-40ed-a0c9-aa52ecf0e6a6",
   "metadata": {},
   "outputs": [
    {
     "name": "stdout",
     "output_type": "stream",
     "text": [
      "Interface Status\n",
      "================================================================================\n",
      "DN                                                 Description          Speed   MTU   \n",
      "--------------------------------------------------------------------------------\n",
      "topology/pod-1/node-201/sys/phys-[eth1/33]                              inherit 9150  \n",
      "topology/pod-1/node-201/sys/phys-[eth1/34]                              inherit 9150  \n",
      "topology/pod-1/node-201/sys/phys-[eth1/35]                              inherit 9150  \n",
      "topology/pod-1/node-201/sys/phys-[eth1/36]                              inherit 9150  \n",
      "topology/pod-1/node-201/sys/phys-[eth1/1]                               inherit 9150  \n",
      "topology/pod-1/node-201/sys/phys-[eth1/2]                               inherit 9150  \n",
      "topology/pod-1/node-201/sys/phys-[eth1/3]                               inherit 9150  \n",
      "topology/pod-1/node-201/sys/phys-[eth1/4]                               inherit 9150  \n",
      "topology/pod-1/node-201/sys/phys-[eth1/5]                               inherit 9150  \n",
      "topology/pod-1/node-201/sys/phys-[eth1/6]                               inherit 9150  \n",
      "topology/pod-1/node-201/sys/phys-[eth1/7]                               inherit 9150  \n",
      "topology/pod-1/node-201/sys/phys-[eth1/8]                               inherit 9150  \n",
      "topology/pod-1/node-201/sys/phys-[eth1/9]                               inherit 9150  \n",
      "topology/pod-1/node-201/sys/phys-[eth1/10]                              inherit 9150  \n",
      "topology/pod-1/node-201/sys/phys-[eth1/11]                              inherit 9150  \n",
      "topology/pod-1/node-201/sys/phys-[eth1/12]                              inherit 9150  \n",
      "topology/pod-1/node-201/sys/phys-[eth1/13]                              inherit 9150  \n",
      "topology/pod-1/node-201/sys/phys-[eth1/14]                              inherit 9150  \n"
     ]
    }
   ],
   "source": [
    "import json\n",
    "\n",
    "# Load the JSON data from the file\n",
    "file_path = \"C:\\\\Users\\\\user\\\\Documents\\\\Downloads\\\\sample-data.json\"\n",
    "with open(file_path, \"r\") as file:\n",
    "    data = json.load(file)\n",
    "\n",
    "# Print the header\n",
    "print(\"Interface Status\")\n",
    "print(\"=\" * 80)\n",
    "print(f\"{'DN':<50} {'Description':<20} {'Speed':<7} {'MTU':<6}\")\n",
    "print(\"-\" * 80)\n",
    "\n",
    "# Extract relevant information and print each entry\n",
    "for item in data[\"imdata\"]:\n",
    "    attributes = item[\"l1PhysIf\"][\"attributes\"]\n",
    "    dn = attributes[\"dn\"]\n",
    "    description = attributes.get(\"descr\", \"\")  # Description may be empty\n",
    "    speed = attributes[\"speed\"]\n",
    "    mtu = attributes[\"mtu\"]\n",
    "\n",
    "    print(f\"{dn:<50} {description:<20} {speed:<7} {mtu:<6}\")\n"
   ]
  },
  {
   "cell_type": "code",
   "execution_count": null,
   "id": "de00d0b5-572f-4713-bee0-49736a00e6c6",
   "metadata": {},
   "outputs": [],
   "source": []
  }
 ],
 "metadata": {
  "kernelspec": {
   "display_name": "Python [conda env:base] *",
   "language": "python",
   "name": "conda-base-py"
  },
  "language_info": {
   "codemirror_mode": {
    "name": "ipython",
    "version": 3
   },
   "file_extension": ".py",
   "mimetype": "text/x-python",
   "name": "python",
   "nbconvert_exporter": "python",
   "pygments_lexer": "ipython3",
   "version": "3.12.7"
  }
 },
 "nbformat": 4,
 "nbformat_minor": 5
}
